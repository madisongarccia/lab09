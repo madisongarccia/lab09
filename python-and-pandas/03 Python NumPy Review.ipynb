{
 "cells": [
  {
   "cell_type": "markdown",
   "metadata": {},
   "source": [
    "# NumPy\n",
    "\n",
    "NumPy is short for Numerical Python.  It is standard to use the alias ``np`` when importing.\n",
    "~~~\n",
    "import numpy as np\n",
    "~~~"
   ]
  },
  {
   "cell_type": "code",
   "execution_count": 47,
   "metadata": {},
   "outputs": [],
   "source": [
    "import numpy as np\n",
    "from numpy.random import randn"
   ]
  },
  {
   "cell_type": "markdown",
   "metadata": {},
   "source": [
    "The main object that we will use is the `ndarray`.  The ndarray is a generic multidimensional container for homogeneous data (all the elements must be the same data type).  We will mostly be using 1D and 2D arrays, but they can potentially have many more dimensions.  You will know the dimension of the array by the number of square brackets.\n",
    "\n",
    "## Creating NumPy Arrays\n",
    "\n",
    "### From Lists\n",
    "~~~\n",
    "np.array(my_list)\n",
    "~~~"
   ]
  },
  {
   "cell_type": "code",
   "execution_count": 48,
   "metadata": {},
   "outputs": [],
   "source": [
    "list_one = [1, 2, 3]\n",
    "list_two = [[1, 1, 1], [2, 2, 2], [3, 3, 3]]"
   ]
  },
  {
   "cell_type": "code",
   "execution_count": 49,
   "metadata": {},
   "outputs": [
    {
     "data": {
      "text/plain": [
       "array([1, 2, 3])"
      ]
     },
     "execution_count": 49,
     "metadata": {},
     "output_type": "execute_result"
    }
   ],
   "source": [
    "np.array(list_one)"
   ]
  },
  {
   "cell_type": "code",
   "execution_count": 51,
   "metadata": {
    "scrolled": true
   },
   "outputs": [],
   "source": [
    "two = np.array(list_two)"
   ]
  },
  {
   "cell_type": "code",
   "execution_count": 52,
   "metadata": {},
   "outputs": [
    {
     "data": {
      "text/plain": [
       "2"
      ]
     },
     "execution_count": 52,
     "metadata": {},
     "output_type": "execute_result"
    }
   ],
   "source": [
    "two.ndim"
   ]
  },
  {
   "cell_type": "markdown",
   "metadata": {},
   "source": [
    "### From built-in functions\n",
    "~~~\n",
    "np.arange(start, stop, step) #exclusive of stop\n",
    "np.zeros(n) OR np.zeros([n,m])\n",
    "np.ones(n) OR np.ones([n,m])\n",
    "np.full(n, fill) OR np.full([n,m], fill)\n",
    "np.linspace(start, stop, n) \n",
    "np.eye(n) \n",
    "~~~"
   ]
  },
  {
   "cell_type": "code",
   "execution_count": 5,
   "metadata": {},
   "outputs": [
    {
     "data": {
      "text/plain": [
       "array([[20, 20, 20, 20],\n",
       "       [20, 20, 20, 20],\n",
       "       [20, 20, 20, 20]])"
      ]
     },
     "execution_count": 5,
     "metadata": {},
     "output_type": "execute_result"
    }
   ],
   "source": [
    "np.full([3,4], 20)"
   ]
  },
  {
   "cell_type": "code",
   "execution_count": 6,
   "metadata": {},
   "outputs": [
    {
     "data": {
      "text/plain": [
       "array([[ 1,  2,  3,  4,  5],\n",
       "       [ 6,  7,  8,  9, 10],\n",
       "       [11, 12, 13, 14, 15],\n",
       "       [16, 17, 18, 19, 20]])"
      ]
     },
     "execution_count": 6,
     "metadata": {},
     "output_type": "execute_result"
    }
   ],
   "source": [
    "np.arange(1,21).reshape(4,5)"
   ]
  },
  {
   "cell_type": "code",
   "execution_count": 7,
   "metadata": {},
   "outputs": [
    {
     "data": {
      "text/plain": [
       "array([0.        , 0.11111111, 0.22222222, 0.33333333, 0.44444444,\n",
       "       0.55555556, 0.66666667, 0.77777778, 0.88888889, 1.        ])"
      ]
     },
     "execution_count": 7,
     "metadata": {},
     "output_type": "execute_result"
    }
   ],
   "source": [
    "np.linspace(0,1,10)"
   ]
  },
  {
   "cell_type": "code",
   "execution_count": 53,
   "metadata": {},
   "outputs": [
    {
     "data": {
      "text/plain": [
       "array([[1., 0., 0., 0.],\n",
       "       [0., 1., 0., 0.],\n",
       "       [0., 0., 1., 0.],\n",
       "       [0., 0., 0., 1.]])"
      ]
     },
     "execution_count": 53,
     "metadata": {},
     "output_type": "execute_result"
    }
   ],
   "source": [
    "np.identity(4)"
   ]
  },
  {
   "cell_type": "code",
   "execution_count": 8,
   "metadata": {},
   "outputs": [
    {
     "data": {
      "text/plain": [
       "array([[1., 0., 0., 0.],\n",
       "       [0., 1., 0., 0.],\n",
       "       [0., 0., 1., 0.],\n",
       "       [0., 0., 0., 1.]])"
      ]
     },
     "execution_count": 8,
     "metadata": {},
     "output_type": "execute_result"
    }
   ],
   "source": [
    "np.eye(4)"
   ]
  },
  {
   "cell_type": "markdown",
   "metadata": {},
   "source": [
    "### From random functions\n",
    "~~~\n",
    "np.random.rand(n) OR np.random.rand(n,m)\n",
    "np.random.randint(low, high, n) OR np.random.randint(low, high, [n,m]) #exclusive of high\n",
    "np.random.randn(n) OR np.random.randn(n,m)\n",
    "~~~"
   ]
  },
  {
   "cell_type": "code",
   "execution_count": 62,
   "metadata": {},
   "outputs": [],
   "source": [
    "b = np.random.rand(5,2)"
   ]
  },
  {
   "cell_type": "code",
   "execution_count": 63,
   "metadata": {},
   "outputs": [
    {
     "data": {
      "text/plain": [
       "array([[0.83843401, 0.06464173],\n",
       "       [0.71705562, 0.58584449],\n",
       "       [0.44020022, 0.94202098],\n",
       "       [0.11855606, 0.17280969],\n",
       "       [0.45600763, 0.70747501]])"
      ]
     },
     "execution_count": 63,
     "metadata": {},
     "output_type": "execute_result"
    }
   ],
   "source": [
    "b"
   ]
  },
  {
   "cell_type": "code",
   "execution_count": 67,
   "metadata": {},
   "outputs": [
    {
     "ename": "AttributeError",
     "evalue": "'numpy.ndarray' object has no attribute 'iloc'",
     "output_type": "error",
     "traceback": [
      "\u001b[0;31m---------------------------------------------------------------------------\u001b[0m",
      "\u001b[0;31mAttributeError\u001b[0m                            Traceback (most recent call last)",
      "Input \u001b[0;32mIn [67]\u001b[0m, in \u001b[0;36m<cell line: 1>\u001b[0;34m()\u001b[0m\n\u001b[0;32m----> 1\u001b[0m \u001b[43mb\u001b[49m\u001b[38;5;241;43m.\u001b[39;49m\u001b[43miloc\u001b[49m[\u001b[38;5;241m5\u001b[39m]\n",
      "\u001b[0;31mAttributeError\u001b[0m: 'numpy.ndarray' object has no attribute 'iloc'"
     ]
    }
   ],
   "source": []
  },
  {
   "cell_type": "code",
   "execution_count": 64,
   "metadata": {},
   "outputs": [
    {
     "data": {
      "text/plain": [
       "0.942020982327526"
      ]
     },
     "execution_count": 64,
     "metadata": {},
     "output_type": "execute_result"
    }
   ],
   "source": [
    "b.max()"
   ]
  },
  {
   "cell_type": "code",
   "execution_count": 65,
   "metadata": {},
   "outputs": [
    {
     "data": {
      "text/plain": [
       "5"
      ]
     },
     "execution_count": 65,
     "metadata": {},
     "output_type": "execute_result"
    }
   ],
   "source": [
    "b.argmax()"
   ]
  },
  {
   "cell_type": "code",
   "execution_count": null,
   "metadata": {},
   "outputs": [],
   "source": []
  },
  {
   "cell_type": "code",
   "execution_count": 58,
   "metadata": {},
   "outputs": [],
   "source": [
    "a = np.random.randint(0,10,5)"
   ]
  },
  {
   "cell_type": "code",
   "execution_count": 59,
   "metadata": {},
   "outputs": [
    {
     "data": {
      "text/plain": [
       "array([0, 4, 2, 8, 3])"
      ]
     },
     "execution_count": 59,
     "metadata": {},
     "output_type": "execute_result"
    }
   ],
   "source": [
    "a"
   ]
  },
  {
   "cell_type": "code",
   "execution_count": 60,
   "metadata": {},
   "outputs": [
    {
     "data": {
      "text/plain": [
       "8"
      ]
     },
     "execution_count": 60,
     "metadata": {},
     "output_type": "execute_result"
    }
   ],
   "source": [
    "a.max()"
   ]
  },
  {
   "cell_type": "code",
   "execution_count": 61,
   "metadata": {},
   "outputs": [
    {
     "data": {
      "text/plain": [
       "3"
      ]
     },
     "execution_count": 61,
     "metadata": {},
     "output_type": "execute_result"
    }
   ],
   "source": [
    "a.argmax()"
   ]
  },
  {
   "cell_type": "code",
   "execution_count": 11,
   "metadata": {},
   "outputs": [
    {
     "data": {
      "text/plain": [
       "array([-0.62835546, -0.32599951,  0.49229583,  1.43567796, -0.92345402,\n",
       "       -0.16596574,  1.19309763,  0.15378232, -2.48674932,  0.05841425])"
      ]
     },
     "execution_count": 11,
     "metadata": {},
     "output_type": "execute_result"
    }
   ],
   "source": [
    "randn(10)"
   ]
  },
  {
   "cell_type": "markdown",
   "metadata": {},
   "source": [
    "## Array attributes and methods\n",
    "\n",
    "### Some common attributes\n",
    "~~~\n",
    "arr = np.random.rand(10)\n",
    "arr.ndim   #number of dimensions\n",
    "arr.shape  #tuple of integers of length dnim\n",
    "arr.size   #total number of elements\n",
    "arr.dtype\n",
    "arr.T # the tanspose\n",
    "~~~"
   ]
  },
  {
   "cell_type": "code",
   "execution_count": 54,
   "metadata": {},
   "outputs": [
    {
     "data": {
      "text/plain": [
       "array([[0.59444858, 0.86123586, 0.16567258, 0.67530354, 0.59397409],\n",
       "       [0.59161784, 0.76100015, 0.41245382, 0.87183717, 0.7775405 ],\n",
       "       [0.36403135, 0.11866452, 0.75954601, 0.67748114, 0.71616198],\n",
       "       [0.91701315, 0.1205372 , 0.14405668, 0.97473384, 0.37787789],\n",
       "       [0.65404856, 0.52848887, 0.44782598, 0.76827563, 0.04979173],\n",
       "       [0.35768507, 0.41163571, 0.10403565, 0.68200652, 0.73571329],\n",
       "       [0.15725297, 0.35053016, 0.50272418, 0.18859659, 0.32913854],\n",
       "       [0.32646072, 0.97898428, 0.93226831, 0.23824124, 0.63742977],\n",
       "       [0.04752786, 0.11835148, 0.15526745, 0.35438908, 0.79335794],\n",
       "       [0.42253939, 0.99990051, 0.58286483, 0.99385283, 0.32406872]])"
      ]
     },
     "execution_count": 54,
     "metadata": {},
     "output_type": "execute_result"
    }
   ],
   "source": [
    "arr = np.random.rand(10,5)\n",
    "arr"
   ]
  },
  {
   "cell_type": "code",
   "execution_count": 56,
   "metadata": {},
   "outputs": [
    {
     "data": {
      "text/plain": [
       "dtype('float64')"
      ]
     },
     "execution_count": 56,
     "metadata": {},
     "output_type": "execute_result"
    }
   ],
   "source": [
    "arr.dtype"
   ]
  },
  {
   "cell_type": "code",
   "execution_count": 14,
   "metadata": {},
   "outputs": [
    {
     "data": {
      "text/plain": [
       "(10, 5)"
      ]
     },
     "execution_count": 14,
     "metadata": {},
     "output_type": "execute_result"
    }
   ],
   "source": [
    "arr.shape"
   ]
  },
  {
   "cell_type": "code",
   "execution_count": 15,
   "metadata": {},
   "outputs": [
    {
     "data": {
      "text/plain": [
       "50"
      ]
     },
     "execution_count": 15,
     "metadata": {},
     "output_type": "execute_result"
    }
   ],
   "source": [
    "arr.size"
   ]
  },
  {
   "cell_type": "code",
   "execution_count": 16,
   "metadata": {},
   "outputs": [
    {
     "data": {
      "text/plain": [
       "dtype('float64')"
      ]
     },
     "execution_count": 16,
     "metadata": {},
     "output_type": "execute_result"
    }
   ],
   "source": [
    "arr.dtype"
   ]
  },
  {
   "cell_type": "code",
   "execution_count": 17,
   "metadata": {},
   "outputs": [
    {
     "data": {
      "text/plain": [
       "array([[0.16437522, 0.66721055, 0.79848721, 0.46038474, 0.42991773],\n",
       "       [0.57405016, 0.63585318, 0.58237994, 0.33509575, 0.90410329],\n",
       "       [0.1043764 , 0.95153177, 0.96160581, 0.81729035, 0.31922106],\n",
       "       [0.44694489, 0.28242473, 0.36772317, 0.41431332, 0.75721761],\n",
       "       [0.87225897, 0.63077061, 0.95384028, 0.0925588 , 0.54279661],\n",
       "       [0.69116845, 0.14545485, 0.59139375, 0.10043208, 0.38287881],\n",
       "       [0.23643857, 0.70013483, 0.65772819, 0.46089169, 0.17796269],\n",
       "       [0.76709222, 0.41106164, 0.02568539, 0.99039227, 0.19582752],\n",
       "       [0.18509337, 0.23992547, 0.87970429, 0.487342  , 0.30467638],\n",
       "       [0.6464485 , 0.02541506, 0.19761221, 0.22408126, 0.78051692]])"
      ]
     },
     "execution_count": 17,
     "metadata": {},
     "output_type": "execute_result"
    }
   ],
   "source": [
    "arr"
   ]
  },
  {
   "cell_type": "code",
   "execution_count": 18,
   "metadata": {},
   "outputs": [
    {
     "data": {
      "text/plain": [
       "array([[0.16437522, 0.57405016, 0.1043764 , 0.44694489, 0.87225897,\n",
       "        0.69116845, 0.23643857, 0.76709222, 0.18509337, 0.6464485 ],\n",
       "       [0.66721055, 0.63585318, 0.95153177, 0.28242473, 0.63077061,\n",
       "        0.14545485, 0.70013483, 0.41106164, 0.23992547, 0.02541506],\n",
       "       [0.79848721, 0.58237994, 0.96160581, 0.36772317, 0.95384028,\n",
       "        0.59139375, 0.65772819, 0.02568539, 0.87970429, 0.19761221],\n",
       "       [0.46038474, 0.33509575, 0.81729035, 0.41431332, 0.0925588 ,\n",
       "        0.10043208, 0.46089169, 0.99039227, 0.487342  , 0.22408126],\n",
       "       [0.42991773, 0.90410329, 0.31922106, 0.75721761, 0.54279661,\n",
       "        0.38287881, 0.17796269, 0.19582752, 0.30467638, 0.78051692]])"
      ]
     },
     "execution_count": 18,
     "metadata": {},
     "output_type": "execute_result"
    }
   ],
   "source": [
    "arr.T"
   ]
  },
  {
   "cell_type": "code",
   "execution_count": 19,
   "metadata": {},
   "outputs": [
    {
     "data": {
      "text/plain": [
       "(5, 10)"
      ]
     },
     "execution_count": 19,
     "metadata": {},
     "output_type": "execute_result"
    }
   ],
   "source": [
    "arr.T.shape"
   ]
  },
  {
   "cell_type": "code",
   "execution_count": null,
   "metadata": {},
   "outputs": [],
   "source": []
  },
  {
   "cell_type": "markdown",
   "metadata": {},
   "source": [
    "### Some common methods\n",
    "\n",
    "~~~\n",
    "arr.reshape(rows,cols)\n",
    "arr.max()\n",
    "arr.argmax()\n",
    "arr.min()\n",
    "arr.argmin()\n",
    "arr.sum()\n",
    "arr.cumsum()\n",
    "~~~"
   ]
  },
  {
   "cell_type": "code",
   "execution_count": 20,
   "metadata": {},
   "outputs": [
    {
     "data": {
      "text/plain": [
       "array([[0.16437522, 0.66721055, 0.79848721, 0.46038474, 0.42991773],\n",
       "       [0.57405016, 0.63585318, 0.58237994, 0.33509575, 0.90410329],\n",
       "       [0.1043764 , 0.95153177, 0.96160581, 0.81729035, 0.31922106],\n",
       "       [0.44694489, 0.28242473, 0.36772317, 0.41431332, 0.75721761],\n",
       "       [0.87225897, 0.63077061, 0.95384028, 0.0925588 , 0.54279661],\n",
       "       [0.69116845, 0.14545485, 0.59139375, 0.10043208, 0.38287881],\n",
       "       [0.23643857, 0.70013483, 0.65772819, 0.46089169, 0.17796269],\n",
       "       [0.76709222, 0.41106164, 0.02568539, 0.99039227, 0.19582752],\n",
       "       [0.18509337, 0.23992547, 0.87970429, 0.487342  , 0.30467638],\n",
       "       [0.6464485 , 0.02541506, 0.19761221, 0.22408126, 0.78051692]])"
      ]
     },
     "execution_count": 20,
     "metadata": {},
     "output_type": "execute_result"
    }
   ],
   "source": [
    "arr"
   ]
  },
  {
   "cell_type": "code",
   "execution_count": 21,
   "metadata": {},
   "outputs": [
    {
     "data": {
      "text/plain": [
       "0.9903922659222898"
      ]
     },
     "execution_count": 21,
     "metadata": {},
     "output_type": "execute_result"
    }
   ],
   "source": [
    "arr.max()"
   ]
  },
  {
   "cell_type": "code",
   "execution_count": 22,
   "metadata": {},
   "outputs": [
    {
     "data": {
      "text/plain": [
       "38"
      ]
     },
     "execution_count": 22,
     "metadata": {},
     "output_type": "execute_result"
    }
   ],
   "source": [
    "arr.argmax()"
   ]
  },
  {
   "cell_type": "code",
   "execution_count": 23,
   "metadata": {},
   "outputs": [
    {
     "data": {
      "text/plain": [
       "24.572090540189443"
      ]
     },
     "execution_count": 23,
     "metadata": {},
     "output_type": "execute_result"
    }
   ],
   "source": [
    "arr.sum()"
   ]
  },
  {
   "cell_type": "code",
   "execution_count": 24,
   "metadata": {},
   "outputs": [
    {
     "data": {
      "text/plain": [
       "24.572090540189443"
      ]
     },
     "execution_count": 24,
     "metadata": {},
     "output_type": "execute_result"
    }
   ],
   "source": [
    "np.sum(arr)"
   ]
  },
  {
   "cell_type": "code",
   "execution_count": 25,
   "metadata": {},
   "outputs": [
    {
     "data": {
      "text/plain": [
       "(10, 5)"
      ]
     },
     "execution_count": 25,
     "metadata": {},
     "output_type": "execute_result"
    }
   ],
   "source": [
    "arr.shape"
   ]
  },
  {
   "cell_type": "code",
   "execution_count": 26,
   "metadata": {},
   "outputs": [
    {
     "data": {
      "text/plain": [
       "array([[0.16437522, 0.66721055],\n",
       "       [0.79848721, 0.46038474],\n",
       "       [0.42991773, 0.57405016],\n",
       "       [0.63585318, 0.58237994],\n",
       "       [0.33509575, 0.90410329],\n",
       "       [0.1043764 , 0.95153177],\n",
       "       [0.96160581, 0.81729035],\n",
       "       [0.31922106, 0.44694489],\n",
       "       [0.28242473, 0.36772317],\n",
       "       [0.41431332, 0.75721761],\n",
       "       [0.87225897, 0.63077061],\n",
       "       [0.95384028, 0.0925588 ],\n",
       "       [0.54279661, 0.69116845],\n",
       "       [0.14545485, 0.59139375],\n",
       "       [0.10043208, 0.38287881],\n",
       "       [0.23643857, 0.70013483],\n",
       "       [0.65772819, 0.46089169],\n",
       "       [0.17796269, 0.76709222],\n",
       "       [0.41106164, 0.02568539],\n",
       "       [0.99039227, 0.19582752],\n",
       "       [0.18509337, 0.23992547],\n",
       "       [0.87970429, 0.487342  ],\n",
       "       [0.30467638, 0.6464485 ],\n",
       "       [0.02541506, 0.19761221],\n",
       "       [0.22408126, 0.78051692]])"
      ]
     },
     "execution_count": 26,
     "metadata": {},
     "output_type": "execute_result"
    }
   ],
   "source": [
    "arr.reshape(25,2)"
   ]
  },
  {
   "cell_type": "markdown",
   "metadata": {},
   "source": [
    "## Indexing and Slicing\n",
    "\n"
   ]
  },
  {
   "cell_type": "code",
   "execution_count": 69,
   "metadata": {},
   "outputs": [],
   "source": [
    "arr = np.arange(10,20)\n",
    "arr2d = np.random.randint(1,11,[5,5])"
   ]
  },
  {
   "cell_type": "markdown",
   "metadata": {},
   "source": [
    "### 1-d arrays\n",
    "~~~\n",
    "arr[i]\n",
    "arr[i:j]\n",
    "arr[:j]\n",
    "arr[i:]\n",
    "arr[i:j:step]\n",
    "~~~"
   ]
  },
  {
   "cell_type": "code",
   "execution_count": 28,
   "metadata": {},
   "outputs": [
    {
     "data": {
      "text/plain": [
       "array([10, 11, 12, 13, 14, 15, 16, 17, 18, 19])"
      ]
     },
     "execution_count": 28,
     "metadata": {},
     "output_type": "execute_result"
    }
   ],
   "source": [
    "arr"
   ]
  },
  {
   "cell_type": "code",
   "execution_count": 82,
   "metadata": {},
   "outputs": [
    {
     "data": {
      "text/plain": [
       "array([0, 2, 4])"
      ]
     },
     "execution_count": 82,
     "metadata": {},
     "output_type": "execute_result"
    }
   ],
   "source": [
    "arr[0:6:2]"
   ]
  },
  {
   "cell_type": "code",
   "execution_count": 30,
   "metadata": {},
   "outputs": [
    {
     "data": {
      "text/plain": [
       "array([11, 12, 13, 14, 15])"
      ]
     },
     "execution_count": 30,
     "metadata": {},
     "output_type": "execute_result"
    }
   ],
   "source": [
    "arr[1:6]"
   ]
  },
  {
   "cell_type": "code",
   "execution_count": null,
   "metadata": {},
   "outputs": [],
   "source": []
  },
  {
   "cell_type": "markdown",
   "metadata": {},
   "source": [
    "### 2-d arrays\n",
    "~~~\n",
    "arr2d[row]\n",
    "arr2d[row][col] OR arr2d[row, col]\n",
    "arr2d[:i, j:]\n",
    "arr2d[[a,b,c,d]] # will get rows with index a, b, c and d\n",
    "~~~\n"
   ]
  },
  {
   "cell_type": "code",
   "execution_count": 31,
   "metadata": {},
   "outputs": [
    {
     "data": {
      "text/plain": [
       "array([[ 7,  8,  5,  7, 10],\n",
       "       [ 3,  7,  3,  6,  3],\n",
       "       [ 1,  9,  4,  8, 10],\n",
       "       [ 6,  9,  2,  4,  3],\n",
       "       [10,  9,  7,  8,  6]])"
      ]
     },
     "execution_count": 31,
     "metadata": {},
     "output_type": "execute_result"
    }
   ],
   "source": [
    "arr2d"
   ]
  },
  {
   "cell_type": "code",
   "execution_count": 33,
   "metadata": {},
   "outputs": [
    {
     "data": {
      "text/plain": [
       "array([[ 7,  8,  5,  7, 10],\n",
       "       [ 1,  9,  4,  8, 10],\n",
       "       [10,  9,  7,  8,  6]])"
      ]
     },
     "execution_count": 33,
     "metadata": {},
     "output_type": "execute_result"
    }
   ],
   "source": [
    "arr2d[[0,2,4]]"
   ]
  },
  {
   "cell_type": "code",
   "execution_count": null,
   "metadata": {},
   "outputs": [],
   "source": []
  },
  {
   "cell_type": "code",
   "execution_count": null,
   "metadata": {},
   "outputs": [],
   "source": []
  },
  {
   "cell_type": "code",
   "execution_count": null,
   "metadata": {},
   "outputs": [],
   "source": []
  },
  {
   "cell_type": "code",
   "execution_count": null,
   "metadata": {},
   "outputs": [],
   "source": []
  },
  {
   "cell_type": "markdown",
   "metadata": {},
   "source": [
    "#### Important Note:\n",
    "Array slices are *views* of the original array.  Changing any values in the slice will also change values in the original array.  "
   ]
  },
  {
   "cell_type": "code",
   "execution_count": 70,
   "metadata": {},
   "outputs": [
    {
     "data": {
      "text/plain": [
       "array([10, 11, 12, 13, 14, 15, 16, 17, 18, 19])"
      ]
     },
     "execution_count": 70,
     "metadata": {},
     "output_type": "execute_result"
    }
   ],
   "source": [
    "arr"
   ]
  },
  {
   "cell_type": "code",
   "execution_count": 71,
   "metadata": {},
   "outputs": [],
   "source": [
    "arr_slice = arr[0:5]"
   ]
  },
  {
   "cell_type": "code",
   "execution_count": 72,
   "metadata": {},
   "outputs": [
    {
     "data": {
      "text/plain": [
       "array([10, 11, 12, 13, 14])"
      ]
     },
     "execution_count": 72,
     "metadata": {},
     "output_type": "execute_result"
    }
   ],
   "source": [
    "arr_slice"
   ]
  },
  {
   "cell_type": "code",
   "execution_count": 73,
   "metadata": {},
   "outputs": [],
   "source": [
    "arr_slice[0] = 1234567"
   ]
  },
  {
   "cell_type": "code",
   "execution_count": 74,
   "metadata": {},
   "outputs": [
    {
     "data": {
      "text/plain": [
       "array([1234567,      11,      12,      13,      14])"
      ]
     },
     "execution_count": 74,
     "metadata": {},
     "output_type": "execute_result"
    }
   ],
   "source": [
    "arr_slice"
   ]
  },
  {
   "cell_type": "code",
   "execution_count": 75,
   "metadata": {},
   "outputs": [
    {
     "data": {
      "text/plain": [
       "array([1234567,      11,      12,      13,      14,      15,      16,\n",
       "            17,      18,      19])"
      ]
     },
     "execution_count": 75,
     "metadata": {},
     "output_type": "execute_result"
    }
   ],
   "source": [
    "arr"
   ]
  },
  {
   "cell_type": "markdown",
   "metadata": {},
   "source": [
    "If a copy of a slice is needed, use .copy()"
   ]
  },
  {
   "cell_type": "code",
   "execution_count": 76,
   "metadata": {},
   "outputs": [],
   "source": [
    "arr = np.arange(11)"
   ]
  },
  {
   "cell_type": "code",
   "execution_count": 77,
   "metadata": {},
   "outputs": [],
   "source": [
    "arr_slice = arr[0:5].copy()"
   ]
  },
  {
   "cell_type": "code",
   "execution_count": 78,
   "metadata": {},
   "outputs": [
    {
     "data": {
      "text/plain": [
       "array([0, 1, 2, 3, 4])"
      ]
     },
     "execution_count": 78,
     "metadata": {},
     "output_type": "execute_result"
    }
   ],
   "source": [
    "arr_slice"
   ]
  },
  {
   "cell_type": "code",
   "execution_count": 79,
   "metadata": {},
   "outputs": [],
   "source": [
    "arr_slice[0] = 1234567"
   ]
  },
  {
   "cell_type": "code",
   "execution_count": 80,
   "metadata": {},
   "outputs": [
    {
     "data": {
      "text/plain": [
       "array([1234567,       1,       2,       3,       4])"
      ]
     },
     "execution_count": 80,
     "metadata": {},
     "output_type": "execute_result"
    }
   ],
   "source": [
    "arr_slice"
   ]
  },
  {
   "cell_type": "code",
   "execution_count": 81,
   "metadata": {},
   "outputs": [
    {
     "data": {
      "text/plain": [
       "array([ 0,  1,  2,  3,  4,  5,  6,  7,  8,  9, 10])"
      ]
     },
     "execution_count": 81,
     "metadata": {},
     "output_type": "execute_result"
    }
   ],
   "source": [
    "arr"
   ]
  },
  {
   "cell_type": "markdown",
   "metadata": {},
   "source": [
    "### Boolean Indexing\n",
    "(Boolean indexing creates a copy)"
   ]
  },
  {
   "cell_type": "code",
   "execution_count": 83,
   "metadata": {},
   "outputs": [],
   "source": [
    "arr = np.array([1,1,1,3,3,3,4,5,4])"
   ]
  },
  {
   "cell_type": "code",
   "execution_count": 84,
   "metadata": {},
   "outputs": [],
   "source": [
    "arr2d = np.random.randn(9,5)"
   ]
  },
  {
   "cell_type": "code",
   "execution_count": 85,
   "metadata": {},
   "outputs": [
    {
     "data": {
      "text/plain": [
       "array([[ 2.73667983e-01, -2.05314892e-01,  8.28804723e-01,\n",
       "         9.36495061e-01, -1.28283150e+00],\n",
       "       [ 5.89122589e-02,  1.14784168e+00,  9.00700642e-02,\n",
       "        -8.99803719e-01, -1.44356364e-01],\n",
       "       [ 4.51805668e-02,  1.07012909e+00, -4.97310291e-01,\n",
       "        -1.16748273e+00,  3.61262121e-01],\n",
       "       [-9.40249593e-01, -2.15541658e+00,  1.36971050e+00,\n",
       "         4.13224574e-01,  1.62478198e+00],\n",
       "       [ 3.82733184e-03,  2.75619409e-01,  5.17378713e-01,\n",
       "         1.53353490e-01, -5.18183688e-01],\n",
       "       [ 2.59420970e-02, -1.16074596e+00,  1.61735654e+00,\n",
       "         4.88588390e-01,  1.03591335e+00],\n",
       "       [-4.31601761e-01, -2.53857966e-01, -9.07106440e-01,\n",
       "        -1.38058677e+00,  8.72579182e-01],\n",
       "       [ 1.36743438e+00,  1.17558300e+00, -1.48132821e+00,\n",
       "         2.55935579e-01, -1.96210496e-04],\n",
       "       [-1.66761801e-01, -4.49665248e-01,  9.31688570e-01,\n",
       "         1.42458574e+00,  2.18974769e+00]])"
      ]
     },
     "execution_count": 85,
     "metadata": {},
     "output_type": "execute_result"
    }
   ],
   "source": [
    "arr2d"
   ]
  },
  {
   "cell_type": "code",
   "execution_count": 86,
   "metadata": {},
   "outputs": [
    {
     "data": {
      "text/plain": [
       "array([4, 5, 4])"
      ]
     },
     "execution_count": 86,
     "metadata": {},
     "output_type": "execute_result"
    }
   ],
   "source": [
    "arr[arr>3]"
   ]
  },
  {
   "cell_type": "code",
   "execution_count": 87,
   "metadata": {},
   "outputs": [],
   "source": [
    "arr_part = arr[arr>3]"
   ]
  },
  {
   "cell_type": "code",
   "execution_count": 88,
   "metadata": {},
   "outputs": [
    {
     "data": {
      "text/plain": [
       "array([4, 5, 4])"
      ]
     },
     "execution_count": 88,
     "metadata": {},
     "output_type": "execute_result"
    }
   ],
   "source": [
    "arr_part"
   ]
  },
  {
   "cell_type": "code",
   "execution_count": 89,
   "metadata": {},
   "outputs": [],
   "source": [
    "arr_part[0] = 121212"
   ]
  },
  {
   "cell_type": "code",
   "execution_count": 90,
   "metadata": {},
   "outputs": [
    {
     "data": {
      "text/plain": [
       "array([121212,      5,      4])"
      ]
     },
     "execution_count": 90,
     "metadata": {},
     "output_type": "execute_result"
    }
   ],
   "source": [
    "arr_part"
   ]
  },
  {
   "cell_type": "code",
   "execution_count": 91,
   "metadata": {},
   "outputs": [
    {
     "data": {
      "text/plain": [
       "array([1, 1, 1, 3, 3, 3, 4, 5, 4])"
      ]
     },
     "execution_count": 91,
     "metadata": {},
     "output_type": "execute_result"
    }
   ],
   "source": [
    "arr"
   ]
  },
  {
   "cell_type": "code",
   "execution_count": null,
   "metadata": {},
   "outputs": [],
   "source": [
    "arr2d[arr2d>0]"
   ]
  },
  {
   "cell_type": "code",
   "execution_count": null,
   "metadata": {},
   "outputs": [],
   "source": [
    "arr2d[arr>3]"
   ]
  },
  {
   "cell_type": "code",
   "execution_count": null,
   "metadata": {},
   "outputs": [],
   "source": [
    "arr2d[arr2d < 0] = 0"
   ]
  },
  {
   "cell_type": "code",
   "execution_count": null,
   "metadata": {},
   "outputs": [],
   "source": [
    "arr2d"
   ]
  },
  {
   "cell_type": "markdown",
   "metadata": {},
   "source": [
    "In order to combine multiple boolean conditions, use ``&`` and ``|`` (instead of ``and`` and ``or``).  Also use parentheses to separate conditions."
   ]
  },
  {
   "cell_type": "code",
   "execution_count": null,
   "metadata": {},
   "outputs": [],
   "source": [
    "arr2d[(arr == 1) | (arr > 4)] #"
   ]
  },
  {
   "cell_type": "code",
   "execution_count": null,
   "metadata": {},
   "outputs": [],
   "source": [
    "arr2d[(arr == 1) or (arr > 4)]"
   ]
  },
  {
   "cell_type": "markdown",
   "metadata": {},
   "source": [
    "### Fancy Indexing\n",
    "Fancy indexing refers to indexing using integer arrays.  **The result of fancy indexing is always a one-dimensional array.**"
   ]
  },
  {
   "cell_type": "code",
   "execution_count": 40,
   "metadata": {},
   "outputs": [],
   "source": [
    "arr = np.empty((8,4))"
   ]
  },
  {
   "cell_type": "code",
   "execution_count": 41,
   "metadata": {},
   "outputs": [
    {
     "data": {
      "text/plain": [
       "array([[0.1, 0.2, 0.3, 0.4],\n",
       "       [1.1, 1.2, 1.3, 1.4],\n",
       "       [2.1, 2.2, 2.3, 2.4],\n",
       "       [3.1, 3.2, 3.3, 3.4],\n",
       "       [4.1, 4.2, 4.3, 4.4],\n",
       "       [5.1, 5.2, 5.3, 5.4],\n",
       "       [6.1, 6.2, 6.3, 6.4],\n",
       "       [7.1, 7.2, 7.3, 7.4]])"
      ]
     },
     "execution_count": 41,
     "metadata": {},
     "output_type": "execute_result"
    }
   ],
   "source": [
    "for i in range(8):\n",
    "    for j in range(4):\n",
    "        arr[i,j] = i + (j+1)/10\n",
    "arr"
   ]
  },
  {
   "cell_type": "code",
   "execution_count": 42,
   "metadata": {},
   "outputs": [
    {
     "data": {
      "text/plain": [
       "array([[0.1, 0.2, 0.3, 0.4],\n",
       "       [2.1, 2.2, 2.3, 2.4],\n",
       "       [4.1, 4.2, 4.3, 4.4],\n",
       "       [6.1, 6.2, 6.3, 6.4]])"
      ]
     },
     "execution_count": 42,
     "metadata": {},
     "output_type": "execute_result"
    }
   ],
   "source": [
    "arr[[0,2,4,6]]"
   ]
  },
  {
   "cell_type": "code",
   "execution_count": 43,
   "metadata": {},
   "outputs": [
    {
     "data": {
      "text/plain": [
       "array([[0.4],\n",
       "       [1.4]])"
      ]
     },
     "execution_count": 43,
     "metadata": {},
     "output_type": "execute_result"
    }
   ],
   "source": [
    "arr[:2,3:]"
   ]
  },
  {
   "cell_type": "code",
   "execution_count": 44,
   "metadata": {},
   "outputs": [
    {
     "data": {
      "text/plain": [
       "array([[2.1, 2.2, 2.3, 2.4],\n",
       "       [0.1, 0.2, 0.3, 0.4],\n",
       "       [7.1, 7.2, 7.3, 7.4]])"
      ]
     },
     "execution_count": 44,
     "metadata": {},
     "output_type": "execute_result"
    }
   ],
   "source": [
    "arr[[2,0,7]]"
   ]
  },
  {
   "cell_type": "markdown",
   "metadata": {},
   "source": [
    "Be careful when using multiple array indexes.  It might not do what you expect."
   ]
  },
  {
   "cell_type": "code",
   "execution_count": 45,
   "metadata": {},
   "outputs": [
    {
     "ename": "IndexError",
     "evalue": "shape mismatch: indexing arrays could not be broadcast together with shapes (3,) (4,) ",
     "output_type": "error",
     "traceback": [
      "\u001b[0;31m---------------------------------------------------------------------------\u001b[0m",
      "\u001b[0;31mIndexError\u001b[0m                                Traceback (most recent call last)",
      "Input \u001b[0;32mIn [45]\u001b[0m, in \u001b[0;36m<cell line: 1>\u001b[0;34m()\u001b[0m\n\u001b[0;32m----> 1\u001b[0m \u001b[43marr\u001b[49m\u001b[43m[\u001b[49m\u001b[43m[\u001b[49m\u001b[38;5;241;43m2\u001b[39;49m\u001b[43m,\u001b[49m\u001b[38;5;241;43m0\u001b[39;49m\u001b[43m,\u001b[49m\u001b[38;5;241;43m7\u001b[39;49m\u001b[43m]\u001b[49m\u001b[43m,\u001b[49m\u001b[43m \u001b[49m\u001b[43m[\u001b[49m\u001b[38;5;241;43m1\u001b[39;49m\u001b[43m,\u001b[49m\u001b[38;5;241;43m2\u001b[39;49m\u001b[43m,\u001b[49m\u001b[38;5;241;43m3\u001b[39;49m\u001b[43m,\u001b[49m\u001b[38;5;241;43m0\u001b[39;49m\u001b[43m]\u001b[49m\u001b[43m]\u001b[49m\n",
      "\u001b[0;31mIndexError\u001b[0m: shape mismatch: indexing arrays could not be broadcast together with shapes (3,) (4,) "
     ]
    }
   ],
   "source": [
    "arr[[2,0,7], [1,2,3,0]]"
   ]
  },
  {
   "cell_type": "code",
   "execution_count": 46,
   "metadata": {},
   "outputs": [
    {
     "data": {
      "text/plain": [
       "array([[2.2, 2.3, 2.4],\n",
       "       [0.2, 0.3, 0.4],\n",
       "       [7.2, 7.3, 7.4]])"
      ]
     },
     "execution_count": 46,
     "metadata": {},
     "output_type": "execute_result"
    }
   ],
   "source": [
    "arr[[2,0,7]][:,[1,2,3]]"
   ]
  },
  {
   "cell_type": "code",
   "execution_count": null,
   "metadata": {},
   "outputs": [],
   "source": []
  },
  {
   "cell_type": "markdown",
   "metadata": {},
   "source": [
    "## Universal Functions\n",
    "Universal functions, sometimes called a *ufunc* is a function that performs element-wise operations on data in ndarrays.  There are *unary* ufuncs, that take as input a single ndarray and *binary* ufuncs that take two ndarrays as input and return a single array.  \n",
    "\n",
    "* Examples of unary ufuncs:  ``sqrt``, ``square``, ``exp``, ``log``, ``isnan``, ``cos`` (and other trig functions)\n",
    "* Examples of binary ufuncs: ``add``, ``power``, ``mod``\n",
    "\n",
    "(See Tables 4-3 and 4-4 on pgs 107-108 in *Python for Data Analysis*)\n"
   ]
  },
  {
   "cell_type": "code",
   "execution_count": 92,
   "metadata": {},
   "outputs": [],
   "source": [
    "arr1 = np.linspace(0,1,11)"
   ]
  },
  {
   "cell_type": "code",
   "execution_count": 93,
   "metadata": {},
   "outputs": [
    {
     "data": {
      "text/plain": [
       "array([0. , 0.1, 0.2, 0.3, 0.4, 0.5, 0.6, 0.7, 0.8, 0.9, 1. ])"
      ]
     },
     "execution_count": 93,
     "metadata": {},
     "output_type": "execute_result"
    }
   ],
   "source": [
    "arr1"
   ]
  },
  {
   "cell_type": "code",
   "execution_count": null,
   "metadata": {},
   "outputs": [],
   "source": [
    "arr2 = np.random.randint(10,100,11)"
   ]
  },
  {
   "cell_type": "code",
   "execution_count": null,
   "metadata": {},
   "outputs": [],
   "source": [
    "arr2"
   ]
  },
  {
   "cell_type": "code",
   "execution_count": 94,
   "metadata": {},
   "outputs": [
    {
     "data": {
      "text/plain": [
       "array([0.  , 0.01, 0.04, 0.09, 0.16, 0.25, 0.36, 0.49, 0.64, 0.81, 1.  ])"
      ]
     },
     "execution_count": 94,
     "metadata": {},
     "output_type": "execute_result"
    }
   ],
   "source": [
    "np.square(arr1)"
   ]
  },
  {
   "cell_type": "code",
   "execution_count": null,
   "metadata": {},
   "outputs": [],
   "source": [
    "np.exp(arr1)"
   ]
  },
  {
   "cell_type": "code",
   "execution_count": null,
   "metadata": {},
   "outputs": [],
   "source": [
    "np.power(arr2,arr1)"
   ]
  },
  {
   "cell_type": "code",
   "execution_count": 95,
   "metadata": {},
   "outputs": [
    {
     "data": {
      "text/plain": [
       "array([1, 1, 1, 3, 3, 3, 4, 5, 4])"
      ]
     },
     "execution_count": 95,
     "metadata": {},
     "output_type": "execute_result"
    }
   ],
   "source": [
    "arr"
   ]
  },
  {
   "cell_type": "code",
   "execution_count": 96,
   "metadata": {},
   "outputs": [
    {
     "data": {
      "text/plain": [
       "array([[ 2.73667983e-01, -2.05314892e-01,  8.28804723e-01,\n",
       "         9.36495061e-01, -1.28283150e+00],\n",
       "       [ 5.89122589e-02,  1.14784168e+00,  9.00700642e-02,\n",
       "        -8.99803719e-01, -1.44356364e-01],\n",
       "       [ 4.51805668e-02,  1.07012909e+00, -4.97310291e-01,\n",
       "        -1.16748273e+00,  3.61262121e-01],\n",
       "       [-9.40249593e-01, -2.15541658e+00,  1.36971050e+00,\n",
       "         4.13224574e-01,  1.62478198e+00],\n",
       "       [ 3.82733184e-03,  2.75619409e-01,  5.17378713e-01,\n",
       "         1.53353490e-01, -5.18183688e-01],\n",
       "       [ 2.59420970e-02, -1.16074596e+00,  1.61735654e+00,\n",
       "         4.88588390e-01,  1.03591335e+00],\n",
       "       [-4.31601761e-01, -2.53857966e-01, -9.07106440e-01,\n",
       "        -1.38058677e+00,  8.72579182e-01],\n",
       "       [ 1.36743438e+00,  1.17558300e+00, -1.48132821e+00,\n",
       "         2.55935579e-01, -1.96210496e-04],\n",
       "       [-1.66761801e-01, -4.49665248e-01,  9.31688570e-01,\n",
       "         1.42458574e+00,  2.18974769e+00]])"
      ]
     },
     "execution_count": 96,
     "metadata": {},
     "output_type": "execute_result"
    }
   ],
   "source": [
    "arr2d"
   ]
  },
  {
   "cell_type": "code",
   "execution_count": 99,
   "metadata": {},
   "outputs": [
    {
     "data": {
      "text/plain": [
       "array([ 0.23635146, -0.55582746,  2.46926417,  0.22430962,  4.13871656])"
      ]
     },
     "execution_count": 99,
     "metadata": {},
     "output_type": "execute_result"
    }
   ],
   "source": [
    "arr2d.sum(axis=0)"
   ]
  },
  {
   "cell_type": "code",
   "execution_count": null,
   "metadata": {},
   "outputs": [],
   "source": []
  }
 ],
 "metadata": {
  "kernelspec": {
   "display_name": "Python 3 (ipykernel)",
   "language": "python",
   "name": "python3"
  },
  "language_info": {
   "codemirror_mode": {
    "name": "ipython",
    "version": 3
   },
   "file_extension": ".py",
   "mimetype": "text/x-python",
   "name": "python",
   "nbconvert_exporter": "python",
   "pygments_lexer": "ipython3",
   "version": "3.9.12"
  }
 },
 "nbformat": 4,
 "nbformat_minor": 2
}
