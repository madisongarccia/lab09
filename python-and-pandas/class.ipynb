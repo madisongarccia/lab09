{
 "cells": [
  {
   "cell_type": "code",
   "execution_count": 1,
   "metadata": {},
   "outputs": [],
   "source": [
    "import pandas as pd"
   ]
  },
  {
   "cell_type": "code",
   "execution_count": 8,
   "metadata": {},
   "outputs": [
    {
     "name": "stderr",
     "output_type": "stream",
     "text": [
      "/Users/madisonwozniak/miniconda3/envs/stat386/lib/python3.11/site-packages/openpyxl/worksheet/_read_only.py:79: UserWarning: Unknown extension is not supported and will be removed\n",
      "  for idx, row in parser.parse():\n"
     ]
    }
   ],
   "source": [
    "first_csv = pd.read_csv(\"Data/example_csv.csv\")\n",
    "second_csv = pd.read_csv(\"Data/example_csv2.csv\", encoding = \"latin1\")\n",
    "first_excel = pd.read_excel(\"Data/example_excel.xlsx\") #this is a dictionary of all the sheet names\n",
    "df = first_excel[\"lines\"]\n"
   ]
  },
  {
   "cell_type": "code",
   "execution_count": 10,
   "metadata": {},
   "outputs": [],
   "source": [
    "with open('Data/example_uns_text.txt', \"r\") as f:\n",
    "    text = f.read()\n",
    "    f.seek(0) #reset the pointer to go to the bigenning of the file again\n",
    "    lines = f.readlines()"
   ]
  },
  {
   "cell_type": "code",
   "execution_count": null,
   "metadata": {},
   "outputs": [],
   "source": []
  },
  {
   "cell_type": "code",
   "execution_count": 12,
   "metadata": {},
   "outputs": [],
   "source": [
    "url = \"https://en.wikipedia.org/wiki/List_of_Super_Bowl_champions\""
   ]
  },
  {
   "cell_type": "code",
   "execution_count": 13,
   "metadata": {},
   "outputs": [],
   "source": [
    "dfs = pd.read_html(url)"
   ]
  },
  {
   "cell_type": "code",
   "execution_count": 14,
   "metadata": {},
   "outputs": [
    {
     "data": {
      "text/plain": [
       "17"
      ]
     },
     "execution_count": 14,
     "metadata": {},
     "output_type": "execute_result"
    }
   ],
   "source": [
    "len(dfs) #amount of tables on website"
   ]
  },
  {
   "cell_type": "code",
   "execution_count": 15,
   "metadata": {},
   "outputs": [
    {
     "name": "stdout",
     "output_type": "stream",
     "text": [
      "(4, 2)\n",
      "(57, 10)\n",
      "(4, 7)\n",
      "(2, 2)\n",
      "(32, 8)\n",
      "(1, 2)\n",
      "(13, 2)\n",
      "(7, 2)\n",
      "(3, 2)\n",
      "(8, 2)\n",
      "(5, 2)\n",
      "(18, 4)\n",
      "(3, 4)\n",
      "(2, 4)\n",
      "(3, 4)\n",
      "(2, 4)\n",
      "(6, 2)\n"
     ]
    }
   ],
   "source": [
    "for df in dfs:\n",
    "    print(df.shape)"
   ]
  },
  {
   "cell_type": "code",
   "execution_count": 17,
   "metadata": {},
   "outputs": [
    {
     "data": {
      "text/html": [
       "<div>\n",
       "<style scoped>\n",
       "    .dataframe tbody tr th:only-of-type {\n",
       "        vertical-align: middle;\n",
       "    }\n",
       "\n",
       "    .dataframe tbody tr th {\n",
       "        vertical-align: top;\n",
       "    }\n",
       "\n",
       "    .dataframe thead th {\n",
       "        text-align: right;\n",
       "    }\n",
       "</style>\n",
       "<table border=\"1\" class=\"dataframe\">\n",
       "  <thead>\n",
       "    <tr style=\"text-align: right;\">\n",
       "      <th></th>\n",
       "      <th>Game</th>\n",
       "      <th>Date/Season</th>\n",
       "      <th>Winning team</th>\n",
       "      <th>Score</th>\n",
       "      <th>Losing team</th>\n",
       "      <th>Venue</th>\n",
       "      <th>City</th>\n",
       "      <th>Attendance</th>\n",
       "      <th>Referee</th>\n",
       "      <th>Ref</th>\n",
       "    </tr>\n",
       "  </thead>\n",
       "  <tbody>\n",
       "    <tr>\n",
       "      <th>0</th>\n",
       "      <td>I [sb 1]</td>\n",
       "      <td>January 15, 1967 (1966 AFL/1966 NFL)</td>\n",
       "      <td>Green Bay Packersn (1, 1–0)</td>\n",
       "      <td>35–10</td>\n",
       "      <td>Kansas City Chiefsa (1, 0–1)</td>\n",
       "      <td>Los Angeles Memorial Coliseum</td>\n",
       "      <td>Los Angeles, California[sb 2]</td>\n",
       "      <td>61946</td>\n",
       "      <td>Norm Schachter</td>\n",
       "      <td>[7][8]</td>\n",
       "    </tr>\n",
       "    <tr>\n",
       "      <th>1</th>\n",
       "      <td>II [sb 1]</td>\n",
       "      <td>January 14, 1968 (1967 AFL/1967 NFL)</td>\n",
       "      <td>Green Bay Packersn (2, 2–0)</td>\n",
       "      <td>33–14</td>\n",
       "      <td>Oakland Raidersa (1, 0–1)</td>\n",
       "      <td>Miami Orange Bowl</td>\n",
       "      <td>Miami, Florida[sb 3]</td>\n",
       "      <td>75546</td>\n",
       "      <td>Jack Vest</td>\n",
       "      <td>[9][8]</td>\n",
       "    </tr>\n",
       "    <tr>\n",
       "      <th>2</th>\n",
       "      <td>III [sb 1]</td>\n",
       "      <td>January 12, 1969 (1968 AFL/1968 NFL)</td>\n",
       "      <td>New York Jetsa (1, 1–0)</td>\n",
       "      <td>16–7</td>\n",
       "      <td>Baltimore Coltsn (1, 0–1)</td>\n",
       "      <td>Miami Orange Bowl (2)</td>\n",
       "      <td>Miami, Florida (2)[sb 3]</td>\n",
       "      <td>75389</td>\n",
       "      <td>Tom Bell</td>\n",
       "      <td>[10][8]</td>\n",
       "    </tr>\n",
       "    <tr>\n",
       "      <th>3</th>\n",
       "      <td>IV [sb 1]</td>\n",
       "      <td>January 11, 1970 (1969 AFL/1969 NFL)</td>\n",
       "      <td>Kansas City Chiefsa (2, 1–1)</td>\n",
       "      <td>23–7</td>\n",
       "      <td>Minnesota Vikingsn (1, 0–1)</td>\n",
       "      <td>Tulane Stadium</td>\n",
       "      <td>New Orleans, Louisiana</td>\n",
       "      <td>80562</td>\n",
       "      <td>John McDonough</td>\n",
       "      <td>[11][8]</td>\n",
       "    </tr>\n",
       "    <tr>\n",
       "      <th>4</th>\n",
       "      <td>V</td>\n",
       "      <td>January 17, 1971 (1970)</td>\n",
       "      <td>Baltimore ColtsA (2, 1–1)</td>\n",
       "      <td>16–13</td>\n",
       "      <td>Dallas CowboysN (1, 0–1)</td>\n",
       "      <td>Miami Orange Bowl (3)</td>\n",
       "      <td>Miami, Florida (3)[sb 3]</td>\n",
       "      <td>79204</td>\n",
       "      <td>Norm Schachter</td>\n",
       "      <td>[12][8]</td>\n",
       "    </tr>\n",
       "  </tbody>\n",
       "</table>\n",
       "</div>"
      ],
      "text/plain": [
       "         Game                           Date/Season  \\\n",
       "0    I [sb 1]  January 15, 1967 (1966 AFL/1966 NFL)   \n",
       "1   II [sb 1]  January 14, 1968 (1967 AFL/1967 NFL)   \n",
       "2  III [sb 1]  January 12, 1969 (1968 AFL/1968 NFL)   \n",
       "3   IV [sb 1]  January 11, 1970 (1969 AFL/1969 NFL)   \n",
       "4           V               January 17, 1971 (1970)   \n",
       "\n",
       "                   Winning team  Score                   Losing team  \\\n",
       "0   Green Bay Packersn (1, 1–0)  35–10  Kansas City Chiefsa (1, 0–1)   \n",
       "1   Green Bay Packersn (2, 2–0)  33–14     Oakland Raidersa (1, 0–1)   \n",
       "2       New York Jetsa (1, 1–0)   16–7     Baltimore Coltsn (1, 0–1)   \n",
       "3  Kansas City Chiefsa (2, 1–1)   23–7   Minnesota Vikingsn (1, 0–1)   \n",
       "4     Baltimore ColtsA (2, 1–1)  16–13      Dallas CowboysN (1, 0–1)   \n",
       "\n",
       "                           Venue                           City  Attendance  \\\n",
       "0  Los Angeles Memorial Coliseum  Los Angeles, California[sb 2]       61946   \n",
       "1              Miami Orange Bowl           Miami, Florida[sb 3]       75546   \n",
       "2          Miami Orange Bowl (2)       Miami, Florida (2)[sb 3]       75389   \n",
       "3                 Tulane Stadium         New Orleans, Louisiana       80562   \n",
       "4          Miami Orange Bowl (3)       Miami, Florida (3)[sb 3]       79204   \n",
       "\n",
       "          Referee      Ref  \n",
       "0  Norm Schachter   [7][8]  \n",
       "1       Jack Vest   [9][8]  \n",
       "2        Tom Bell  [10][8]  \n",
       "3  John McDonough  [11][8]  \n",
       "4  Norm Schachter  [12][8]  "
      ]
     },
     "execution_count": 17,
     "metadata": {},
     "output_type": "execute_result"
    }
   ],
   "source": [
    "df = dfs[1]\n",
    "df.head()"
   ]
  },
  {
   "cell_type": "code",
   "execution_count": null,
   "metadata": {},
   "outputs": [],
   "source": []
  },
  {
   "cell_type": "code",
   "execution_count": null,
   "metadata": {},
   "outputs": [],
   "source": []
  },
  {
   "cell_type": "code",
   "execution_count": null,
   "metadata": {},
   "outputs": [],
   "source": []
  },
  {
   "cell_type": "code",
   "execution_count": null,
   "metadata": {},
   "outputs": [],
   "source": []
  },
  {
   "cell_type": "code",
   "execution_count": null,
   "metadata": {},
   "outputs": [],
   "source": []
  },
  {
   "cell_type": "code",
   "execution_count": null,
   "metadata": {},
   "outputs": [],
   "source": []
  },
  {
   "cell_type": "code",
   "execution_count": null,
   "metadata": {},
   "outputs": [],
   "source": []
  }
 ],
 "metadata": {
  "kernelspec": {
   "display_name": "stat386",
   "language": "python",
   "name": "python3"
  },
  "language_info": {
   "codemirror_mode": {
    "name": "ipython",
    "version": 3
   },
   "file_extension": ".py",
   "mimetype": "text/x-python",
   "name": "python",
   "nbconvert_exporter": "python",
   "pygments_lexer": "ipython3",
   "version": "3.11.7"
  }
 },
 "nbformat": 4,
 "nbformat_minor": 2
}
