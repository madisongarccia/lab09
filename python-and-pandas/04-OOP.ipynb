{
 "cells": [
  {
   "cell_type": "markdown",
   "metadata": {},
   "source": [
    "## Object Oriented Practice\n",
    "\n",
    "Create a `Product` class with \n",
    "* Attributes:\n",
    "    - `product_id`: A unique identifier\n",
    "    - `product_name`: Name of the product\n",
    "    - `product_price`: Price of the product\n",
    "* Methods:\n",
    "    - `discount_price`: Takes as input a discount percentage (0-100) and returns the price of the product after applying the discount (should not change the `price` attribute)\n",
    "    - `change_price`: Takes as input a new price and updates the product price (SHOULD change the price attribute of the product but does not return anything)"
   ]
  },
  {
   "cell_type": "code",
   "execution_count": null,
   "metadata": {},
   "outputs": [],
   "source": []
  },
  {
   "cell_type": "code",
   "execution_count": 1,
   "metadata": {},
   "outputs": [],
   "source": [
    "class Product:\n",
    "    def __init__(self, product_id, product_name, product_price):\n",
    "        self.product_id = product_id\n",
    "        self.product_name = product_name\n",
    "        self.product_price = product_price\n",
    "\n",
    "    def discount_price(self, p):\n",
    "        if isinstance(p, (int,float)):\n",
    "            if 0 <= p <= 100:\n",
    "                return self.product_price * p/100\n",
    "            else:\n",
    "                return f\"Error: {p} should be a number (percentage) between 0 and 100\"\n",
    "        else:\n",
    "            return  f\"Error: {p} is type {type(p)}.  Use an number of type `int` or `float`\"\n",
    "\n",
    "    def change_price(self, new_price):\n",
    "        if isinstance(new_price, (int,float)):\n",
    "            self.product_price = new_price \n",
    "        else:\n",
    "            return f\"Error: {new_price} is type {type(new_price)}.  Use an number of type `int` or `float`\"\n",
    "\n"
   ]
  },
  {
   "cell_type": "markdown",
   "metadata": {},
   "source": [
    "### Test `Product` class"
   ]
  },
  {
   "cell_type": "code",
   "execution_count": 2,
   "metadata": {},
   "outputs": [],
   "source": [
    "book = Product('A01', 'Book: Webscraping with Python', 30)"
   ]
  },
  {
   "cell_type": "markdown",
   "metadata": {},
   "source": [
    "**Attributes**"
   ]
  },
  {
   "cell_type": "code",
   "execution_count": 3,
   "metadata": {},
   "outputs": [
    {
     "name": "stdout",
     "output_type": "stream",
     "text": [
      "A01\n",
      "Book: Webscraping with Python\n",
      "30\n"
     ]
    }
   ],
   "source": [
    "print(book.product_id)\n",
    "print(book.product_name)\n",
    "print(book.product_price)"
   ]
  },
  {
   "cell_type": "markdown",
   "metadata": {},
   "source": [
    "**Method `discount_price`**"
   ]
  },
  {
   "cell_type": "code",
   "execution_count": 4,
   "metadata": {},
   "outputs": [
    {
     "data": {
      "text/plain": [
       "9.0"
      ]
     },
     "execution_count": 4,
     "metadata": {},
     "output_type": "execute_result"
    }
   ],
   "source": [
    "book.discount_price(30)"
   ]
  },
  {
   "cell_type": "code",
   "execution_count": 5,
   "metadata": {},
   "outputs": [
    {
     "data": {
      "text/plain": [
       "'Error: 150 should be a number (percentage) between 0 and 100'"
      ]
     },
     "execution_count": 5,
     "metadata": {},
     "output_type": "execute_result"
    }
   ],
   "source": [
    "book.discount_price(150)"
   ]
  },
  {
   "cell_type": "code",
   "execution_count": 6,
   "metadata": {},
   "outputs": [
    {
     "data": {
      "text/plain": [
       "\"Error: 30 is type <class 'str'>.  Use an number of type `int` or `float`\""
      ]
     },
     "execution_count": 6,
     "metadata": {},
     "output_type": "execute_result"
    }
   ],
   "source": [
    "book.discount_price('30')"
   ]
  },
  {
   "cell_type": "code",
   "execution_count": 7,
   "metadata": {},
   "outputs": [
    {
     "name": "stdout",
     "output_type": "stream",
     "text": [
      "30\n"
     ]
    }
   ],
   "source": [
    "# change that attribute hasn't changed\n",
    "print(book.product_price)"
   ]
  },
  {
   "cell_type": "markdown",
   "metadata": {},
   "source": [
    "**Method `change_price`**"
   ]
  },
  {
   "cell_type": "code",
   "execution_count": 8,
   "metadata": {},
   "outputs": [],
   "source": [
    "book.change_price(75)"
   ]
  },
  {
   "cell_type": "code",
   "execution_count": 9,
   "metadata": {},
   "outputs": [
    {
     "name": "stdout",
     "output_type": "stream",
     "text": [
      "75\n"
     ]
    }
   ],
   "source": [
    "## check that object attribute changed\n",
    "print(book.product_price)"
   ]
  },
  {
   "cell_type": "code",
   "execution_count": 10,
   "metadata": {},
   "outputs": [
    {
     "data": {
      "text/plain": [
       "\"Error: seventy-five is type <class 'str'>.  Use an number of type `int` or `float`\""
      ]
     },
     "execution_count": 10,
     "metadata": {},
     "output_type": "execute_result"
    }
   ],
   "source": [
    "book.change_price(\"seventy-five\")"
   ]
  },
  {
   "cell_type": "code",
   "execution_count": null,
   "metadata": {},
   "outputs": [],
   "source": []
  },
  {
   "cell_type": "code",
   "execution_count": null,
   "metadata": {},
   "outputs": [],
   "source": []
  }
 ],
 "metadata": {
  "kernelspec": {
   "display_name": "classes",
   "language": "python",
   "name": "python3"
  },
  "language_info": {
   "codemirror_mode": {
    "name": "ipython",
    "version": 3
   },
   "file_extension": ".py",
   "mimetype": "text/x-python",
   "name": "python",
   "nbconvert_exporter": "python",
   "pygments_lexer": "ipython3",
   "version": "3.10.12"
  },
  "orig_nbformat": 4
 },
 "nbformat": 4,
 "nbformat_minor": 2
}
