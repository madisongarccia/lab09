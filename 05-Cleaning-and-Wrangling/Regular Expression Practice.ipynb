{
 "cells": [
  {
   "cell_type": "code",
   "execution_count": 2,
   "id": "9fc93a2c",
   "metadata": {},
   "outputs": [],
   "source": [
    "import pandas as pd\n",
    "import numpy as np\n",
    "import re"
   ]
  },
  {
   "cell_type": "code",
   "execution_count": 3,
   "id": "a49f5981",
   "metadata": {},
   "outputs": [],
   "source": [
    "st = \"\"\"The quick brown fox jumps over the lazy dog. \n",
    "My email is john.doe@example.com. \n",
    "My other email is random_student@university.edu.  \n",
    "The date is 03/05/2024. \n",
    "The textbook will cost $30. It should be less than 40€.\n",
    "This is a sample phone number (123) 456-7890.\n",
    "Here is another sample (987)654-3210.\n",
    "Provo's lat/lon coordinates are 40.2338N111.6585W\"\"\""
   ]
  },
  {
   "cell_type": "markdown",
   "id": "004b1ff2",
   "metadata": {},
   "source": [
    "1. Find all the digits in the string `st`."
   ]
  },
  {
   "cell_type": "code",
   "execution_count": null,
   "id": "a69d0384",
   "metadata": {},
   "outputs": [],
   "source": [
    "re.findall('\\d', st)"
   ]
  },
  {
   "cell_type": "markdown",
   "id": "9366aff1",
   "metadata": {},
   "source": [
    "2. Find all the phone numbers of the form `(XXX) XXX-XXXX` or `(XXX)XXX-XXXX` in the string `st`.  \n"
   ]
  },
  {
   "cell_type": "code",
   "execution_count": 11,
   "id": "21a2b443",
   "metadata": {},
   "outputs": [
    {
     "data": {
      "text/plain": [
       "['(123) 456-7890']"
      ]
     },
     "execution_count": 11,
     "metadata": {},
     "output_type": "execute_result"
    }
   ],
   "source": [
    "pattern = '\\(\\d{3}\\) \\d{3}-\\d{4}'\n",
    "re.findall(pattern, st)"
   ]
  },
  {
   "cell_type": "markdown",
   "id": "2a8608d0",
   "metadata": {},
   "source": [
    "3. Find all the email addresses in the string `st`.\n"
   ]
  },
  {
   "cell_type": "code",
   "execution_count": 21,
   "id": "0957e54e",
   "metadata": {},
   "outputs": [
    {
     "data": {
      "text/plain": [
       "['john.doe@example.com', 'random_student@university.edu']"
      ]
     },
     "execution_count": 21,
     "metadata": {},
     "output_type": "execute_result"
    }
   ],
   "source": [
    "pattern = '\\w\\w\\S+\\W*\\w*@\\w*.\\w*'\n",
    "re.findall(pattern, st)"
   ]
  },
  {
   "cell_type": "markdown",
   "id": "da5def3c",
   "metadata": {},
   "source": [
    "4. Create a regex pattern that extracts the year from a date formatted as `MM/DD/YYYY`.  Apply your pattern to the string `st`."
   ]
  },
  {
   "cell_type": "code",
   "execution_count": 22,
   "id": "48bca3fd",
   "metadata": {},
   "outputs": [
    {
     "data": {
      "text/plain": [
       "['2024']"
      ]
     },
     "execution_count": 22,
     "metadata": {},
     "output_type": "execute_result"
    }
   ],
   "source": [
    "pattern = '\\w\\w/\\w\\w/(\\w{4})'\n",
    "re.findall(pattern, st)"
   ]
  },
  {
   "cell_type": "markdown",
   "id": "807f99c0",
   "metadata": {},
   "source": [
    "5.  Find all the values in `st` that represent currency in US Dollars."
   ]
  },
  {
   "cell_type": "code",
   "execution_count": 25,
   "id": "87e0f7a8",
   "metadata": {},
   "outputs": [
    {
     "data": {
      "text/plain": [
       "['$30']"
      ]
     },
     "execution_count": 25,
     "metadata": {},
     "output_type": "execute_result"
    }
   ],
   "source": [
    "pattern = '\\$\\w+'\n",
    "re.findall(pattern, st)"
   ]
  },
  {
   "cell_type": "code",
   "execution_count": null,
   "id": "13f8a6ec",
   "metadata": {},
   "outputs": [],
   "source": []
  },
  {
   "cell_type": "code",
   "execution_count": null,
   "id": "0ab13fc2",
   "metadata": {},
   "outputs": [],
   "source": []
  },
  {
   "cell_type": "markdown",
   "id": "a052eb6e",
   "metadata": {},
   "source": [
    "6. Find all the values `st` that represent currency in Euros (€)"
   ]
  },
  {
   "cell_type": "code",
   "execution_count": 26,
   "id": "8b6dd698",
   "metadata": {},
   "outputs": [
    {
     "data": {
      "text/plain": [
       "['40€']"
      ]
     },
     "execution_count": 26,
     "metadata": {},
     "output_type": "execute_result"
    }
   ],
   "source": [
    "pattern = '\\w+€'\n",
    "re.findall(pattern, st)"
   ]
  },
  {
   "cell_type": "code",
   "execution_count": null,
   "id": "81e31423",
   "metadata": {},
   "outputs": [],
   "source": []
  },
  {
   "cell_type": "code",
   "execution_count": null,
   "id": "24e53f31",
   "metadata": {},
   "outputs": [],
   "source": []
  },
  {
   "cell_type": "markdown",
   "id": "52c73c83",
   "metadata": {},
   "source": [
    "7. Extract the latitude and longitude from `st`."
   ]
  },
  {
   "cell_type": "code",
   "execution_count": 33,
   "id": "b2b99114",
   "metadata": {},
   "outputs": [
    {
     "data": {
      "text/plain": [
       "['40.2338N111.6585W']"
      ]
     },
     "execution_count": 33,
     "metadata": {},
     "output_type": "execute_result"
    }
   ],
   "source": [
    "pattern = '\\d+\\.\\d+\\w\\d+\\.\\d+\\w'\n",
    "re.findall(pattern, st)"
   ]
  },
  {
   "cell_type": "markdown",
   "id": "667a72a9",
   "metadata": {},
   "source": [
    "8. Replace all the vowels in `st` with the character `*`"
   ]
  },
  {
   "cell_type": "code",
   "execution_count": 38,
   "id": "b2c3857e",
   "metadata": {},
   "outputs": [
    {
     "data": {
      "text/plain": [
       "\"Th* q**ck br*wn f*x j*mps *v*r th* l*zy d*g. \\nMy *m**l *s j*hn.d**@*x*mpl*.c*m. \\nMy *th*r *m**l *s r*nd*m_st*d*nt@*n*v*rs*ty.*d*.  \\nTh* d*t* *s 03/05/2024. \\nTh* t*xtb**k w*ll c*st $30. *t sh**ld b* l*ss th*n 40€.\\nTh*s *s * s*mpl* ph*n* n*mb*r (123) 456-7890.\\nH*r* *s *n*th*r s*mpl* (987)654-3210.\\nPr*v*'s l*t/l*n c**rd*n*t*s *r* 40.2338N111.6585W\""
      ]
     },
     "execution_count": 38,
     "metadata": {},
     "output_type": "execute_result"
    }
   ],
   "source": [
    "pattern = '[aeiouAEIOU]'\n",
    "re.sub(pattern, '*', st)"
   ]
  },
  {
   "cell_type": "markdown",
   "id": "6c4a8c69",
   "metadata": {},
   "source": [
    "## Regular expressions (and other cleaning tasks) with DataFrames\n",
    "\n",
    "Load the data:\n",
    "```python\n",
    "url = 'https://github.com/esnt/Data/raw/main/MessyData/employeedata.csv'\n",
    "df_employee = pd.read_csv(url)\n",
    "```\n",
    "\n",
    "1. Extract the first and last names from the \"name\" column and create two new variable called \"first_name\" and \"last_name\"\n",
    "2. Extract the area code from the phone number column and create a new variable called \"area_code\" (assume the area code is always the first 3 digits)\n",
    "3. Extract the year from the \"birthdate\" column and create a new variable called \"birthyear\"\n",
    "4. Create a columns that is the height in inches\n",
    "5. Create a column that contains the domain of the email addresses (e.g. \"yahoo.com\")\n",
    "6. Extract the city and state from the \"mailing_address\" and create three new variables called \"city\", \"state\", and \"zipcode\"\n",
    "7. Keep only the new variables that you created in (1.) - (6.) Your final dataset should look something like this:\n",
    "\n",
    "\n",
    "| first_name | last_name | area_code | birthyear| ht_in| domain | city | state | zipcode |\n",
    "|------------|-----------|-----------|----------|-------|-------|--------|-----|---------|\n",
    "| Ryan | Wilkins | 851 | 1959 | 74 | hotmail.com | Port Victoria | MN | 71782"
   ]
  },
  {
   "cell_type": "code",
   "execution_count": 3,
   "id": "3e4e96f5",
   "metadata": {},
   "outputs": [],
   "source": [
    "url = 'https://github.com/esnt/Data/raw/main/MessyData/employeedata.csv'\n",
    "df_employee = pd.read_csv(url)"
   ]
  },
  {
   "cell_type": "code",
   "execution_count": 4,
   "id": "39a4f922",
   "metadata": {},
   "outputs": [
    {
     "data": {
      "text/plain": [
       "0         ryan wilkins\n",
       "1        sierra turner\n",
       "2           lydia wood\n",
       "3         sherri smith\n",
       "4         jeremy owens\n",
       "5         angel graves\n",
       "6      michael johnson\n",
       "7     rebecca morrison\n",
       "8        jeffrey riley\n",
       "9      tiffany vincent\n",
       "10      alison herring\n",
       "11     kimberly peters\n",
       "12        thomas jones\n",
       "13       emily gilbert\n",
       "14       michael baker\n",
       "15        jacob tucker\n",
       "16       nicole hardin\n",
       "17    kevin hutchinson\n",
       "18        ashley brown\n",
       "19       julie alvarez\n",
       "Name: name, dtype: object"
      ]
     },
     "execution_count": 4,
     "metadata": {},
     "output_type": "execute_result"
    }
   ],
   "source": [
    "df_employee['name'].str.lower() #str vectorizes the string\n"
   ]
  },
  {
   "cell_type": "code",
   "execution_count": 5,
   "id": "bc819a49",
   "metadata": {},
   "outputs": [
    {
     "data": {
      "text/plain": [
       "0         Ryan\n",
       "1       Sierra\n",
       "2        Lydia\n",
       "3       Sherri\n",
       "4       Jeremy\n",
       "5        Angel\n",
       "6      Michael\n",
       "7      Rebecca\n",
       "8      Jeffrey\n",
       "9      Tiffany\n",
       "10      Alison\n",
       "11    Kimberly\n",
       "12      Thomas\n",
       "13       Emily\n",
       "14     Michael\n",
       "15       Jacob\n",
       "16      Nicole\n",
       "17       Kevin\n",
       "18      Ashley\n",
       "19       Julie\n",
       "Name: name, dtype: object"
      ]
     },
     "execution_count": 5,
     "metadata": {},
     "output_type": "execute_result"
    }
   ],
   "source": [
    "df_employee['name'].apply(lambda x: x.split()[0])"
   ]
  },
  {
   "cell_type": "code",
   "execution_count": 6,
   "id": "7a536f21",
   "metadata": {},
   "outputs": [
    {
     "data": {
      "text/plain": [
       "0         Ryan\n",
       "1       Sierra\n",
       "2        Lydia\n",
       "3       Sherri\n",
       "4       Jeremy\n",
       "5        Angel\n",
       "6      Michael\n",
       "7      Rebecca\n",
       "8      Jeffrey\n",
       "9      Tiffany\n",
       "10      Alison\n",
       "11    Kimberly\n",
       "12      Thomas\n",
       "13       Emily\n",
       "14     Michael\n",
       "15       Jacob\n",
       "16      Nicole\n",
       "17       Kevin\n",
       "18      Ashley\n",
       "19       Julie\n",
       "dtype: object"
      ]
     },
     "execution_count": 6,
     "metadata": {},
     "output_type": "execute_result"
    }
   ],
   "source": [
    "df_employee.apply(lambda x: x['name'].split()[0], axis = 1) #do things to more than one column"
   ]
  }
 ],
 "metadata": {
  "kernelspec": {
   "display_name": "Python 3 (ipykernel)",
   "language": "python",
   "name": "python3"
  },
  "language_info": {
   "codemirror_mode": {
    "name": "ipython",
    "version": 3
   },
   "file_extension": ".py",
   "mimetype": "text/x-python",
   "name": "python",
   "nbconvert_exporter": "python",
   "pygments_lexer": "ipython3",
   "version": "3.11.8"
  }
 },
 "nbformat": 4,
 "nbformat_minor": 5
}
