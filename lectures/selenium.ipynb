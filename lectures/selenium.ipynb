{
 "cells": [
  {
   "cell_type": "markdown",
   "metadata": {},
   "source": [
    "Make sure that selenium and webdriver-manager are installed. \n",
    "\n",
    "* Open the terminal (mac) or **Anaconda prompt** (windows)\n",
    "* Activate relevant environment: `conda activate env_name`\n",
    "* Install selenium `pip install selenium==4.\\*`\n",
    "* Install webdriver-manager `pip install webdriver-manager`"
   ]
  },
  {
   "cell_type": "code",
   "execution_count": 1,
   "metadata": {},
   "outputs": [],
   "source": [
    "import pandas as pd\n",
    "from selenium import webdriver\n",
    "from selenium.webdriver.chrome.service import Service as ChromeService\n",
    "from webdriver_manager.chrome import ChromeDriverManager\n",
    "from selenium.webdriver.common.by import By"
   ]
  },
  {
   "cell_type": "code",
   "execution_count": 2,
   "metadata": {},
   "outputs": [],
   "source": [
    "url = 'https://www.audible.com/adblbestsellers?ref_pageloadid=not_applicable&ref=a_search_b1_desktop_footer_column_2_0&pf_rd_p=6a55a63d-48d3-4d5e-857f-ae6682380e4d&pf_rd_r=ADEMMRE4HTN5VSC4JJ6H&pageLoadId=UOz4Qw8keKrq207i&ref_plink=not_applicable&creativeId=2d835e86-1f10-4f6e-a4c6-33d2001684e6'"
   ]
  },
  {
   "cell_type": "code",
   "execution_count": 3,
   "metadata": {},
   "outputs": [],
   "source": [
    "driver = webdriver.Chrome(service=ChromeService(ChromeDriverManager().install()))\n",
    "driver.get(url)"
   ]
  },
  {
   "cell_type": "code",
   "execution_count": 4,
   "metadata": {},
   "outputs": [],
   "source": [
    "container = driver.find_element(By.CLASS_NAME, 'adbl-impression-container')"
   ]
  },
  {
   "cell_type": "code",
   "execution_count": 5,
   "metadata": {},
   "outputs": [],
   "source": [
    "book_one = container.find_element(By.XPATH, \".//li[contains(@class, 'productListItem')]\")"
   ]
  },
  {
   "cell_type": "code",
   "execution_count": 7,
   "metadata": {},
   "outputs": [
    {
     "data": {
      "text/plain": [
       "'1. Dune'"
      ]
     },
     "execution_count": 7,
     "metadata": {},
     "output_type": "execute_result"
    }
   ],
   "source": [
    "book_one.find_element(By.XPATH, \".//h3[contains(@class, 'bc-heading')]\").text"
   ]
  },
  {
   "cell_type": "code",
   "execution_count": 8,
   "metadata": {},
   "outputs": [
    {
     "data": {
      "text/plain": [
       "<selenium.webdriver.remote.webelement.WebElement (session=\"8d2ccd13cf12436117df1ae8e387550d\", element=\"f.CFCCF737B472DCD650621D3BB0137ED4.d.88680AD1BE7857A9ACFCF58AB0CBEA65.e.822\")>"
      ]
     },
     "execution_count": 8,
     "metadata": {},
     "output_type": "execute_result"
    }
   ],
   "source": [
    "book_one.find_element(By.XPATH, \".//p[contains(@id, 'buybox-regular-price')]\")"
   ]
  },
  {
   "cell_type": "code",
   "execution_count": 9,
   "metadata": {},
   "outputs": [],
   "source": [
    "all_books = container.find_elements(By.XPATH, \".//li[contains(@class, 'productListItem')]\")"
   ]
  },
  {
   "cell_type": "code",
   "execution_count": 10,
   "metadata": {},
   "outputs": [],
   "source": [
    "titles = []\n",
    "authors = []\n",
    "languages = []\n",
    "for book in all_books:\n",
    "    language = book.find_element(By.XPATH, \".//li[contains(@class, 'languageLabel')]\").text.strip(\"Language: \")\n",
    "    languages.append(language)\n",
    "    "
   ]
  },
  {
   "cell_type": "code",
   "execution_count": 11,
   "metadata": {},
   "outputs": [
    {
     "data": {
      "text/plain": [
       "['English',\n",
       " 'English',\n",
       " 'English',\n",
       " 'English',\n",
       " 'English',\n",
       " 'English',\n",
       " 'English',\n",
       " 'English',\n",
       " 'English',\n",
       " 'English',\n",
       " 'English',\n",
       " 'English',\n",
       " 'English',\n",
       " 'English',\n",
       " 'English',\n",
       " 'English',\n",
       " 'English',\n",
       " 'English',\n",
       " 'English',\n",
       " 'English']"
      ]
     },
     "execution_count": 11,
     "metadata": {},
     "output_type": "execute_result"
    }
   ],
   "source": [
    "languages"
   ]
  },
  {
   "cell_type": "code",
   "execution_count": 12,
   "metadata": {},
   "outputs": [
    {
     "ename": "ValueError",
     "evalue": "invalid literal for int() with base 10: ''",
     "output_type": "error",
     "traceback": [
      "\u001b[0;31m---------------------------------------------------------------------------\u001b[0m",
      "\u001b[0;31mValueError\u001b[0m                                Traceback (most recent call last)",
      "Cell \u001b[0;32mIn[12], line 10\u001b[0m\n\u001b[1;32m      7\u001b[0m pagination \u001b[38;5;241m=\u001b[39m driver\u001b[38;5;241m.\u001b[39mfind_element(By\u001b[38;5;241m.\u001b[39mXPATH, \u001b[38;5;124m\"\u001b[39m\u001b[38;5;124m.//ul[contains(@class, \u001b[39m\u001b[38;5;124m'\u001b[39m\u001b[38;5;124mpagingElements\u001b[39m\u001b[38;5;124m'\u001b[39m\u001b[38;5;124m)]\u001b[39m\u001b[38;5;124m\"\u001b[39m)\n\u001b[1;32m      8\u001b[0m last_page \u001b[38;5;241m=\u001b[39m pagination\u001b[38;5;241m.\u001b[39mfind_elements(By\u001b[38;5;241m.\u001b[39mXPATH, \u001b[38;5;124m\"\u001b[39m\u001b[38;5;124m.//a[contains(@class, \u001b[39m\u001b[38;5;124m'\u001b[39m\u001b[38;5;124mpageNumberElement\u001b[39m\u001b[38;5;124m'\u001b[39m\u001b[38;5;124m)]\u001b[39m\u001b[38;5;124m\"\u001b[39m)[\u001b[38;5;241m-\u001b[39m\u001b[38;5;241m1\u001b[39m]\u001b[38;5;241m.\u001b[39mtext\n\u001b[0;32m---> 10\u001b[0m \u001b[38;5;28;01mwhile\u001b[39;00m current_page \u001b[38;5;241m<\u001b[39m\u001b[38;5;241m=\u001b[39m \u001b[38;5;28mint\u001b[39m(last_page):\n\u001b[1;32m     11\u001b[0m     container \u001b[38;5;241m=\u001b[39m driver\u001b[38;5;241m.\u001b[39mfind_element(By\u001b[38;5;241m.\u001b[39mCLASS_NAME, \u001b[38;5;124m'\u001b[39m\u001b[38;5;124madbl-impression-container\u001b[39m\u001b[38;5;124m'\u001b[39m)\n\u001b[1;32m     12\u001b[0m     all_books \u001b[38;5;241m=\u001b[39m container\u001b[38;5;241m.\u001b[39mfind_elements(By\u001b[38;5;241m.\u001b[39mXPATH, \u001b[38;5;124m\"\u001b[39m\u001b[38;5;124m.//li[contains(@class, \u001b[39m\u001b[38;5;124m'\u001b[39m\u001b[38;5;124mproductListItem\u001b[39m\u001b[38;5;124m'\u001b[39m\u001b[38;5;124m)]\u001b[39m\u001b[38;5;124m\"\u001b[39m)\n",
      "\u001b[0;31mValueError\u001b[0m: invalid literal for int() with base 10: ''"
     ]
    }
   ],
   "source": [
    "book_title = []\n",
    "book_author = []\n",
    "book_lang = []\n",
    "book_release_date = []\n",
    "current_page = 1\n",
    "\n",
    "#Whole bar\n",
    "pagination = driver.find_element(By.XPATH, \".//ul[contains(@class, 'pagingElements')]\")\n",
    "\n",
    "#specific number\n",
    "last_page = pagination.find_elements(By.XPATH, \".//a[contains(@class, 'pageNumberElement')]\")[-1].text\n",
    "\n",
    "while current_page <= int(last_page):\n",
    "    container = driver.find_element(By.CLASS_NAME, 'adbl-impression-container')\n",
    "    all_books = container.find_elements(By.XPATH, \".//li[contains(@class, 'productListItem')]\")\n",
    "    for book in all_books:\n",
    "        title = book.find_element(By.XPATH, \".//h3[contains(@class, 'bc-heading')]\").text\n",
    "        author = book.find_element(By.XPATH, \".//li[contains(@class, 'authorLabel')]\").text.strip(\"By: \")\n",
    "        release = book.find_element(By.XPATH, \".//li[contains(@class, 'releaseDateLabel')]\").text.strip(\"Release date: \")\n",
    "        language = book.find_element(By.XPATH, \".//li[contains(@class, 'languageLabel')]\").text.strip(\"Language: \")\n",
    "        book_lang.append(language)\n",
    "        book_title.append(title)\n",
    "        book_author.append(author)\n",
    "        book_release_date.append(release)\n",
    "    current_page += 1\n",
    "    try:\n",
    "        next_button = driver.find_element(By.XPATH, \".//span[contains(@class, 'nextButton')]\")\n",
    "        next_button.click()\n",
    "    except:\n",
    "        pass"
   ]
  },
  {
   "cell_type": "code",
   "execution_count": 15,
   "metadata": {},
   "outputs": [],
   "source": [
    "book_info = pd.DataFrame({\"Title\": book_title,\n",
    "              \"Author\": book_author,\n",
    "              \"Release Date\": book_release_date,\n",
    "              \"Language\": book_lang})\n"
   ]
  },
  {
   "cell_type": "code",
   "execution_count": 16,
   "metadata": {},
   "outputs": [],
   "source": [
    "book_info.to_csv(\"audiobooks.csv\", index = None)"
   ]
  },
  {
   "cell_type": "code",
   "execution_count": 17,
   "metadata": {},
   "outputs": [],
   "source": [
    "driver.quit()"
   ]
  }
 ],
 "metadata": {
  "kernelspec": {
   "display_name": "classes",
   "language": "python",
   "name": "python3"
  },
  "language_info": {
   "codemirror_mode": {
    "name": "ipython",
    "version": 3
   },
   "file_extension": ".py",
   "mimetype": "text/x-python",
   "name": "python",
   "nbconvert_exporter": "python",
   "pygments_lexer": "ipython3",
   "version": "3.11.8"
  }
 },
 "nbformat": 4,
 "nbformat_minor": 2
}
