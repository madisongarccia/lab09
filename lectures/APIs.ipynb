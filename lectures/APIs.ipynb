{
 "cells": [
  {
   "cell_type": "code",
   "execution_count": 1,
   "id": "17e88eb0",
   "metadata": {},
   "outputs": [],
   "source": [
    "import pandas as pd\n",
    "import numpy as np\n",
    "import requests\n",
    "import re\n",
    "import urllib.parse\n",
    "import matplotlib.pyplot as plt\n",
    "import seaborn as sns"
   ]
  },
  {
   "cell_type": "markdown",
   "id": "ebaaa79b",
   "metadata": {},
   "source": [
    "## Official Joke API\n",
    "\n",
    "Generates random jokes (from jokes submitted to API)\n",
    "\n",
    "[Documentation](https://github.com/15Dkatz/official_joke_api)\n"
   ]
  },
  {
   "cell_type": "code",
   "execution_count": 2,
   "id": "7927e849",
   "metadata": {},
   "outputs": [],
   "source": [
    "##baseurl\n",
    "base_url = \"https://official-joke-api.appspot.com/\"\n"
   ]
  },
  {
   "cell_type": "markdown",
   "id": "df1e36b5",
   "metadata": {},
   "source": [
    "#### 10 random jokes"
   ]
  },
  {
   "cell_type": "code",
   "execution_count": 3,
   "id": "c9a4657b",
   "metadata": {},
   "outputs": [],
   "source": [
    "\n",
    "# endpoint for 10 random jokes\n",
    "endpoint = 'random_ten'\n",
    "url = base_url + endpoint"
   ]
  },
  {
   "cell_type": "code",
   "execution_count": 4,
   "id": "82888aa4",
   "metadata": {},
   "outputs": [
    {
     "data": {
      "text/plain": [
       "'https://official-joke-api.appspot.com/random_ten'"
      ]
     },
     "execution_count": 4,
     "metadata": {},
     "output_type": "execute_result"
    }
   ],
   "source": [
    "## What does it look like if you visit this url?\n",
    "url"
   ]
  },
  {
   "cell_type": "code",
   "execution_count": 5,
   "id": "391bc6b9",
   "metadata": {},
   "outputs": [],
   "source": [
    "r = requests.get(url)"
   ]
  },
  {
   "cell_type": "code",
   "execution_count": 6,
   "id": "b3dc3128",
   "metadata": {},
   "outputs": [
    {
     "data": {
      "text/plain": [
       "200"
      ]
     },
     "execution_count": 6,
     "metadata": {},
     "output_type": "execute_result"
    }
   ],
   "source": [
    "r.status_code"
   ]
  },
  {
   "cell_type": "code",
   "execution_count": 7,
   "id": "8de1192f",
   "metadata": {},
   "outputs": [
    {
     "data": {
      "text/plain": [
       "[{'type': 'general',\n",
       "  'setup': 'Why do mathematicians hate the U.S.?',\n",
       "  'punchline': \"Because it's indivisible.\",\n",
       "  'id': 354},\n",
       " {'type': 'general',\n",
       "  'setup': 'When do doctors get angry?',\n",
       "  'punchline': 'When they run out of patients.',\n",
       "  'id': 285},\n",
       " {'type': 'general',\n",
       "  'setup': 'What was the pumpkin’s favorite sport?',\n",
       "  'punchline': 'Squash.',\n",
       "  'id': 268},\n",
       " {'type': 'general',\n",
       "  'setup': 'What do you call someone with no nose?',\n",
       "  'punchline': 'Nobody knows.',\n",
       "  'id': 227},\n",
       " {'type': 'general',\n",
       "  'setup': 'What do you call a singing Laptop?',\n",
       "  'punchline': 'A Dell',\n",
       "  'id': 7},\n",
       " {'type': 'general',\n",
       "  'setup': 'What kind of music do welders like?',\n",
       "  'punchline': 'Heavy metal.',\n",
       "  'id': 381},\n",
       " {'type': 'general',\n",
       "  'setup': 'Why did Dracula lie in the wrong coffin?',\n",
       "  'punchline': 'He made a grave mistake.',\n",
       "  'id': 317},\n",
       " {'type': 'general',\n",
       "  'setup': 'What do you do on a remote island?',\n",
       "  'punchline': 'Try and find the TV island it belongs to.',\n",
       "  'id': 229},\n",
       " {'type': 'general',\n",
       "  'setup': 'Why are fish so smart?',\n",
       "  'punchline': 'Because they live in schools!',\n",
       "  'id': 304},\n",
       " {'type': 'general',\n",
       "  'setup': 'Did you know that protons have mass?',\n",
       "  'punchline': \"I didn't even know they were catholic.\",\n",
       "  'id': 104}]"
      ]
     },
     "execution_count": 7,
     "metadata": {},
     "output_type": "execute_result"
    }
   ],
   "source": [
    "r.json()"
   ]
  },
  {
   "cell_type": "code",
   "execution_count": 8,
   "id": "871c14d7",
   "metadata": {},
   "outputs": [
    {
     "data": {
      "text/html": [
       "<div>\n",
       "<style scoped>\n",
       "    .dataframe tbody tr th:only-of-type {\n",
       "        vertical-align: middle;\n",
       "    }\n",
       "\n",
       "    .dataframe tbody tr th {\n",
       "        vertical-align: top;\n",
       "    }\n",
       "\n",
       "    .dataframe thead th {\n",
       "        text-align: right;\n",
       "    }\n",
       "</style>\n",
       "<table border=\"1\" class=\"dataframe\">\n",
       "  <thead>\n",
       "    <tr style=\"text-align: right;\">\n",
       "      <th></th>\n",
       "      <th>type</th>\n",
       "      <th>setup</th>\n",
       "      <th>punchline</th>\n",
       "      <th>id</th>\n",
       "    </tr>\n",
       "  </thead>\n",
       "  <tbody>\n",
       "    <tr>\n",
       "      <th>0</th>\n",
       "      <td>general</td>\n",
       "      <td>Why do mathematicians hate the U.S.?</td>\n",
       "      <td>Because it's indivisible.</td>\n",
       "      <td>354</td>\n",
       "    </tr>\n",
       "    <tr>\n",
       "      <th>1</th>\n",
       "      <td>general</td>\n",
       "      <td>When do doctors get angry?</td>\n",
       "      <td>When they run out of patients.</td>\n",
       "      <td>285</td>\n",
       "    </tr>\n",
       "    <tr>\n",
       "      <th>2</th>\n",
       "      <td>general</td>\n",
       "      <td>What was the pumpkin’s favorite sport?</td>\n",
       "      <td>Squash.</td>\n",
       "      <td>268</td>\n",
       "    </tr>\n",
       "    <tr>\n",
       "      <th>3</th>\n",
       "      <td>general</td>\n",
       "      <td>What do you call someone with no nose?</td>\n",
       "      <td>Nobody knows.</td>\n",
       "      <td>227</td>\n",
       "    </tr>\n",
       "    <tr>\n",
       "      <th>4</th>\n",
       "      <td>general</td>\n",
       "      <td>What do you call a singing Laptop?</td>\n",
       "      <td>A Dell</td>\n",
       "      <td>7</td>\n",
       "    </tr>\n",
       "    <tr>\n",
       "      <th>5</th>\n",
       "      <td>general</td>\n",
       "      <td>What kind of music do welders like?</td>\n",
       "      <td>Heavy metal.</td>\n",
       "      <td>381</td>\n",
       "    </tr>\n",
       "    <tr>\n",
       "      <th>6</th>\n",
       "      <td>general</td>\n",
       "      <td>Why did Dracula lie in the wrong coffin?</td>\n",
       "      <td>He made a grave mistake.</td>\n",
       "      <td>317</td>\n",
       "    </tr>\n",
       "    <tr>\n",
       "      <th>7</th>\n",
       "      <td>general</td>\n",
       "      <td>What do you do on a remote island?</td>\n",
       "      <td>Try and find the TV island it belongs to.</td>\n",
       "      <td>229</td>\n",
       "    </tr>\n",
       "    <tr>\n",
       "      <th>8</th>\n",
       "      <td>general</td>\n",
       "      <td>Why are fish so smart?</td>\n",
       "      <td>Because they live in schools!</td>\n",
       "      <td>304</td>\n",
       "    </tr>\n",
       "    <tr>\n",
       "      <th>9</th>\n",
       "      <td>general</td>\n",
       "      <td>Did you know that protons have mass?</td>\n",
       "      <td>I didn't even know they were catholic.</td>\n",
       "      <td>104</td>\n",
       "    </tr>\n",
       "  </tbody>\n",
       "</table>\n",
       "</div>"
      ],
      "text/plain": [
       "      type                                     setup  \\\n",
       "0  general      Why do mathematicians hate the U.S.?   \n",
       "1  general                When do doctors get angry?   \n",
       "2  general    What was the pumpkin’s favorite sport?   \n",
       "3  general    What do you call someone with no nose?   \n",
       "4  general        What do you call a singing Laptop?   \n",
       "5  general       What kind of music do welders like?   \n",
       "6  general  Why did Dracula lie in the wrong coffin?   \n",
       "7  general        What do you do on a remote island?   \n",
       "8  general                    Why are fish so smart?   \n",
       "9  general      Did you know that protons have mass?   \n",
       "\n",
       "                                   punchline   id  \n",
       "0                  Because it's indivisible.  354  \n",
       "1             When they run out of patients.  285  \n",
       "2                                    Squash.  268  \n",
       "3                              Nobody knows.  227  \n",
       "4                                     A Dell    7  \n",
       "5                               Heavy metal.  381  \n",
       "6                   He made a grave mistake.  317  \n",
       "7  Try and find the TV island it belongs to.  229  \n",
       "8              Because they live in schools!  304  \n",
       "9     I didn't even know they were catholic.  104  "
      ]
     },
     "execution_count": 8,
     "metadata": {},
     "output_type": "execute_result"
    }
   ],
   "source": [
    "pd.json_normalize(r.json())"
   ]
  },
  {
   "cell_type": "markdown",
   "id": "c32e6f6d",
   "metadata": {},
   "source": [
    "#### Joke by id"
   ]
  },
  {
   "cell_type": "code",
   "execution_count": 9,
   "id": "1e28a5a8",
   "metadata": {},
   "outputs": [
    {
     "data": {
      "text/plain": [
       "True"
      ]
     },
     "execution_count": 9,
     "metadata": {},
     "output_type": "execute_result"
    }
   ],
   "source": [
    "## endpoint for joke by id\n",
    "\n",
    "endpoint = 'jokes/25'\n",
    "r = requests.get(base_url+endpoint)\n",
    "r.ok"
   ]
  },
  {
   "cell_type": "code",
   "execution_count": 10,
   "id": "7c262b6c",
   "metadata": {},
   "outputs": [
    {
     "data": {
      "text/plain": [
       "{'type': 'programming',\n",
       " 'setup': 'How many programmers does it take to change a lightbulb?',\n",
       " 'punchline': \"None that's a hardware problem\",\n",
       " 'id': 25}"
      ]
     },
     "execution_count": 10,
     "metadata": {},
     "output_type": "execute_result"
    }
   ],
   "source": [
    "r.json()"
   ]
  },
  {
   "cell_type": "code",
   "execution_count": null,
   "id": "ca09c3b0",
   "metadata": {},
   "outputs": [],
   "source": []
  },
  {
   "cell_type": "markdown",
   "id": "438e47c0",
   "metadata": {},
   "source": [
    "## Zippopotam API\n",
    "\n",
    "Postal code lookup.\n",
    "\n",
    "Endpoints:\n",
    "* Places by postal code `/{country}/{postalcode}`\n",
    "* Postal codes by place `/{country}/{state}/{place}`\n",
    "* Places near postal code `/nearby/{country}/{postalcode}`\n",
    "\n",
    "[Documentation](https://docs.zippopotam.us/docs/getting-started/) and also [this page](https://www.zippopotam.us/)"
   ]
  },
  {
   "cell_type": "code",
   "execution_count": 11,
   "id": "56947cd9",
   "metadata": {},
   "outputs": [],
   "source": [
    "base_url = 'https://api.zippopotam.us'"
   ]
  },
  {
   "cell_type": "markdown",
   "id": "5dbb650b",
   "metadata": {},
   "source": [
    "#### places by postal code"
   ]
  },
  {
   "cell_type": "code",
   "execution_count": 12,
   "id": "4c36e8cc",
   "metadata": {},
   "outputs": [
    {
     "data": {
      "text/plain": [
       "'https://api.zippopotam.us/us/84602'"
      ]
     },
     "execution_count": 12,
     "metadata": {},
     "output_type": "execute_result"
    }
   ],
   "source": [
    "# places by postal code\n",
    "options = [\"us\", \"84602\"] # [\"county\", \"postalcode\"]\n",
    "url = f\"{base_url}/{'/'.join(options)}\"\n",
    "url\n"
   ]
  },
  {
   "cell_type": "code",
   "execution_count": 13,
   "id": "9410a45b",
   "metadata": {},
   "outputs": [
    {
     "data": {
      "text/plain": [
       "True"
      ]
     },
     "execution_count": 13,
     "metadata": {},
     "output_type": "execute_result"
    }
   ],
   "source": [
    "r = requests.get(url)\n",
    "r.ok"
   ]
  },
  {
   "cell_type": "code",
   "execution_count": 14,
   "id": "ee031abf",
   "metadata": {},
   "outputs": [
    {
     "data": {
      "text/plain": [
       "{'post code': '84602',\n",
       " 'country': 'United States',\n",
       " 'country abbreviation': 'US',\n",
       " 'places': [{'place name': 'Provo',\n",
       "   'longitude': '-111.7325',\n",
       "   'state': 'Utah',\n",
       "   'state abbreviation': 'UT',\n",
       "   'latitude': '40.3563'}]}"
      ]
     },
     "execution_count": 14,
     "metadata": {},
     "output_type": "execute_result"
    }
   ],
   "source": [
    "r.json()"
   ]
  },
  {
   "cell_type": "markdown",
   "id": "88920f9c",
   "metadata": {},
   "source": [
    "#### Postal codes by place"
   ]
  },
  {
   "cell_type": "code",
   "execution_count": 15,
   "id": "433b7f39",
   "metadata": {},
   "outputs": [
    {
     "data": {
      "text/plain": [
       "True"
      ]
     },
     "execution_count": 15,
     "metadata": {},
     "output_type": "execute_result"
    }
   ],
   "source": [
    "options = [\"us\", \"tx\", \"houston\"]\n",
    "\n",
    "## This line will ensure that the url is formed correctly (for example if there are spaces)\n",
    "encoded_options = [urllib.parse.quote(option) for option in options]\n",
    "url = f\"{base_url}/{'/'.join(encoded_options)}\"\n",
    "r = requests.get(url)\n",
    "r.ok\n"
   ]
  },
  {
   "cell_type": "code",
   "execution_count": 16,
   "id": "3485d87f",
   "metadata": {},
   "outputs": [
    {
     "data": {
      "text/plain": [
       "dict_keys(['country abbreviation', 'places', 'country', 'place name', 'state', 'state abbreviation'])"
      ]
     },
     "execution_count": 16,
     "metadata": {},
     "output_type": "execute_result"
    }
   ],
   "source": [
    "r.json().keys()"
   ]
  },
  {
   "cell_type": "code",
   "execution_count": 17,
   "id": "3b8d85e1",
   "metadata": {},
   "outputs": [
    {
     "data": {
      "text/html": [
       "<div>\n",
       "<style scoped>\n",
       "    .dataframe tbody tr th:only-of-type {\n",
       "        vertical-align: middle;\n",
       "    }\n",
       "\n",
       "    .dataframe tbody tr th {\n",
       "        vertical-align: top;\n",
       "    }\n",
       "\n",
       "    .dataframe thead th {\n",
       "        text-align: right;\n",
       "    }\n",
       "</style>\n",
       "<table border=\"1\" class=\"dataframe\">\n",
       "  <thead>\n",
       "    <tr style=\"text-align: right;\">\n",
       "      <th></th>\n",
       "      <th>place name</th>\n",
       "      <th>longitude</th>\n",
       "      <th>post code</th>\n",
       "      <th>latitude</th>\n",
       "    </tr>\n",
       "  </thead>\n",
       "  <tbody>\n",
       "    <tr>\n",
       "      <th>0</th>\n",
       "      <td>Houston</td>\n",
       "      <td>-95.3098</td>\n",
       "      <td>77001</td>\n",
       "      <td>29.8131</td>\n",
       "    </tr>\n",
       "    <tr>\n",
       "      <th>1</th>\n",
       "      <td>Houston</td>\n",
       "      <td>-95.3594</td>\n",
       "      <td>77002</td>\n",
       "      <td>29.7594</td>\n",
       "    </tr>\n",
       "    <tr>\n",
       "      <th>2</th>\n",
       "      <td>Houston</td>\n",
       "      <td>-95.3391</td>\n",
       "      <td>77003</td>\n",
       "      <td>29.7489</td>\n",
       "    </tr>\n",
       "    <tr>\n",
       "      <th>3</th>\n",
       "      <td>Houston</td>\n",
       "      <td>-95.3625</td>\n",
       "      <td>77004</td>\n",
       "      <td>29.7247</td>\n",
       "    </tr>\n",
       "    <tr>\n",
       "      <th>4</th>\n",
       "      <td>Houston</td>\n",
       "      <td>-95.4263</td>\n",
       "      <td>77005</td>\n",
       "      <td>29.7179</td>\n",
       "    </tr>\n",
       "    <tr>\n",
       "      <th>...</th>\n",
       "      <td>...</td>\n",
       "      <td>...</td>\n",
       "      <td>...</td>\n",
       "      <td>...</td>\n",
       "    </tr>\n",
       "    <tr>\n",
       "      <th>188</th>\n",
       "      <td>Houston</td>\n",
       "      <td>-95.4342</td>\n",
       "      <td>77297</td>\n",
       "      <td>29.834</td>\n",
       "    </tr>\n",
       "    <tr>\n",
       "      <th>189</th>\n",
       "      <td>Houston</td>\n",
       "      <td>-95.4342</td>\n",
       "      <td>77298</td>\n",
       "      <td>29.834</td>\n",
       "    </tr>\n",
       "    <tr>\n",
       "      <th>190</th>\n",
       "      <td>Houston</td>\n",
       "      <td>-95.4342</td>\n",
       "      <td>77299</td>\n",
       "      <td>29.834</td>\n",
       "    </tr>\n",
       "    <tr>\n",
       "      <th>191</th>\n",
       "      <td>North Houston</td>\n",
       "      <td>-95.4342</td>\n",
       "      <td>77315</td>\n",
       "      <td>29.834</td>\n",
       "    </tr>\n",
       "    <tr>\n",
       "      <th>192</th>\n",
       "      <td>South Houston</td>\n",
       "      <td>-95.2258</td>\n",
       "      <td>77587</td>\n",
       "      <td>29.6601</td>\n",
       "    </tr>\n",
       "  </tbody>\n",
       "</table>\n",
       "<p>193 rows × 4 columns</p>\n",
       "</div>"
      ],
      "text/plain": [
       "        place name longitude post code latitude\n",
       "0          Houston  -95.3098     77001  29.8131\n",
       "1          Houston  -95.3594     77002  29.7594\n",
       "2          Houston  -95.3391     77003  29.7489\n",
       "3          Houston  -95.3625     77004  29.7247\n",
       "4          Houston  -95.4263     77005  29.7179\n",
       "..             ...       ...       ...      ...\n",
       "188        Houston  -95.4342     77297   29.834\n",
       "189        Houston  -95.4342     77298   29.834\n",
       "190        Houston  -95.4342     77299   29.834\n",
       "191  North Houston  -95.4342     77315   29.834\n",
       "192  South Houston  -95.2258     77587  29.6601\n",
       "\n",
       "[193 rows x 4 columns]"
      ]
     },
     "execution_count": 17,
     "metadata": {},
     "output_type": "execute_result"
    }
   ],
   "source": [
    "pd.json_normalize(r.json().get('places'))"
   ]
  },
  {
   "cell_type": "code",
   "execution_count": 18,
   "id": "a8787c50",
   "metadata": {},
   "outputs": [
    {
     "name": "stdout",
     "output_type": "stream",
     "text": [
      "200\n",
      "https://api.zippopotam.us/us/mo/saint%20louis\n"
     ]
    }
   ],
   "source": [
    "## Try another place\n",
    "options = [\"us\", \"mo\", \"saint louis\"]\n",
    "\n",
    "## This line will ensure that the url is formed correctly (for example if there are spaces)\n",
    "encoded_options = [urllib.parse.quote(option) for option in options]\n",
    "url = f\"{base_url}/{'/'.join(encoded_options)}\"\n",
    "r = requests.get(url)\n",
    "print(r.status_code)\n",
    "print(r.url)"
   ]
  },
  {
   "cell_type": "code",
   "execution_count": 19,
   "id": "baa4cf41",
   "metadata": {},
   "outputs": [
    {
     "data": {
      "text/html": [
       "<div>\n",
       "<style scoped>\n",
       "    .dataframe tbody tr th:only-of-type {\n",
       "        vertical-align: middle;\n",
       "    }\n",
       "\n",
       "    .dataframe tbody tr th {\n",
       "        vertical-align: top;\n",
       "    }\n",
       "\n",
       "    .dataframe thead th {\n",
       "        text-align: right;\n",
       "    }\n",
       "</style>\n",
       "<table border=\"1\" class=\"dataframe\">\n",
       "  <thead>\n",
       "    <tr style=\"text-align: right;\">\n",
       "      <th></th>\n",
       "      <th>place name</th>\n",
       "      <th>longitude</th>\n",
       "      <th>post code</th>\n",
       "      <th>latitude</th>\n",
       "    </tr>\n",
       "  </thead>\n",
       "  <tbody>\n",
       "    <tr>\n",
       "      <th>0</th>\n",
       "      <td>Saint Louis</td>\n",
       "      <td>-90.1913</td>\n",
       "      <td>63101</td>\n",
       "      <td>38.6346</td>\n",
       "    </tr>\n",
       "    <tr>\n",
       "      <th>1</th>\n",
       "      <td>Saint Louis</td>\n",
       "      <td>-90.1864</td>\n",
       "      <td>63102</td>\n",
       "      <td>38.6352</td>\n",
       "    </tr>\n",
       "    <tr>\n",
       "      <th>2</th>\n",
       "      <td>Saint Louis</td>\n",
       "      <td>-90.2164</td>\n",
       "      <td>63103</td>\n",
       "      <td>38.6332</td>\n",
       "    </tr>\n",
       "    <tr>\n",
       "      <th>3</th>\n",
       "      <td>Saint Louis</td>\n",
       "      <td>-90.2185</td>\n",
       "      <td>63104</td>\n",
       "      <td>38.6128</td>\n",
       "    </tr>\n",
       "    <tr>\n",
       "      <th>4</th>\n",
       "      <td>Saint Louis</td>\n",
       "      <td>-90.3264</td>\n",
       "      <td>63105</td>\n",
       "      <td>38.6459</td>\n",
       "    </tr>\n",
       "    <tr>\n",
       "      <th>...</th>\n",
       "      <td>...</td>\n",
       "      <td>...</td>\n",
       "      <td>...</td>\n",
       "      <td>...</td>\n",
       "    </tr>\n",
       "    <tr>\n",
       "      <th>68</th>\n",
       "      <td>Saint Louis</td>\n",
       "      <td>-90.2435</td>\n",
       "      <td>63196</td>\n",
       "      <td>38.6531</td>\n",
       "    </tr>\n",
       "    <tr>\n",
       "      <th>69</th>\n",
       "      <td>Saint Louis</td>\n",
       "      <td>-90.2435</td>\n",
       "      <td>63197</td>\n",
       "      <td>38.6531</td>\n",
       "    </tr>\n",
       "    <tr>\n",
       "      <th>70</th>\n",
       "      <td>Saint Louis</td>\n",
       "      <td>-90.4271</td>\n",
       "      <td>63198</td>\n",
       "      <td>38.6383</td>\n",
       "    </tr>\n",
       "    <tr>\n",
       "      <th>71</th>\n",
       "      <td>Saint Louis</td>\n",
       "      <td>-90.2435</td>\n",
       "      <td>63199</td>\n",
       "      <td>38.6531</td>\n",
       "    </tr>\n",
       "    <tr>\n",
       "      <th>72</th>\n",
       "      <td>Lake Saint Louis</td>\n",
       "      <td>-90.7854</td>\n",
       "      <td>63367</td>\n",
       "      <td>38.7936</td>\n",
       "    </tr>\n",
       "  </tbody>\n",
       "</table>\n",
       "<p>73 rows × 4 columns</p>\n",
       "</div>"
      ],
      "text/plain": [
       "          place name longitude post code latitude\n",
       "0        Saint Louis  -90.1913     63101  38.6346\n",
       "1        Saint Louis  -90.1864     63102  38.6352\n",
       "2        Saint Louis  -90.2164     63103  38.6332\n",
       "3        Saint Louis  -90.2185     63104  38.6128\n",
       "4        Saint Louis  -90.3264     63105  38.6459\n",
       "..               ...       ...       ...      ...\n",
       "68       Saint Louis  -90.2435     63196  38.6531\n",
       "69       Saint Louis  -90.2435     63197  38.6531\n",
       "70       Saint Louis  -90.4271     63198  38.6383\n",
       "71       Saint Louis  -90.2435     63199  38.6531\n",
       "72  Lake Saint Louis  -90.7854     63367  38.7936\n",
       "\n",
       "[73 rows x 4 columns]"
      ]
     },
     "execution_count": 19,
     "metadata": {},
     "output_type": "execute_result"
    }
   ],
   "source": [
    "pd.json_normalize(r.json().get('places'))"
   ]
  },
  {
   "cell_type": "markdown",
   "id": "fba47cf6",
   "metadata": {},
   "source": [
    "## Free Geocoding API\n",
    "\n",
    "[Documentation](https://geocode.maps.co/)\n",
    "\n",
    "* The endpoints show that the query parameters should be entered as url parameters (indicated by the `?` in the url)\n",
    "* We can easily specify the query options using the `params` argument in the `.get` method\n",
    "* In order to do this, set up a dictionary such that \n",
    "    * the key is the parameter name (indicated in the documentation)\n",
    "    * the value is the our query choice\n",
    "* `requests.get()` will automatically make sure that our parameters are formatted into valid urls\n",
    "\n",
    "Endpoints:\n",
    "* Forward geocode (`https://geocode.maps.co/search?q={address}`)"
   ]
  },
  {
   "cell_type": "code",
   "execution_count": null,
   "id": "37b22467",
   "metadata": {},
   "outputs": [],
   "source": [
    "base_url = \"https://geocode.maps.co\"\n",
    "forward = '/search'\n",
    "\n",
    "params = {'q':'709 Smith Road Fremont OH 43420'}\n",
    "\n",
    "r = requests.get(base_url + forward, params = params)\n",
    "print(r.status_code)\n",
    "print(r.url)"
   ]
  },
  {
   "cell_type": "code",
   "execution_count": null,
   "id": "8f6e78d4",
   "metadata": {},
   "outputs": [],
   "source": [
    "r.json()"
   ]
  },
  {
   "cell_type": "markdown",
   "id": "37e7fde0",
   "metadata": {},
   "source": [
    "Endpoints\n",
    "* Reverse geocode (`https://geocode.maps.co/reverse?lat={latitude}&lon={longitude}`)"
   ]
  },
  {
   "cell_type": "code",
   "execution_count": null,
   "id": "d2708c91",
   "metadata": {},
   "outputs": [],
   "source": [
    "reverse = '/reverse'\n",
    "\n",
    "params = {'lat': '41.299294', 'lon': '-83.091367'}\n",
    "\n",
    "r = requests.get(base_url + reverse, params = params)\n",
    "print(r.status_code)\n",
    "print(r.url)"
   ]
  },
  {
   "cell_type": "code",
   "execution_count": null,
   "id": "45bd13c9",
   "metadata": {},
   "outputs": [],
   "source": [
    "r.json()"
   ]
  },
  {
   "cell_type": "markdown",
   "id": "42f64fce",
   "metadata": {},
   "source": [
    "## NASA APOD API\n",
    "\n",
    "[NASA APIs](https://api.nasa.gov/).  \n",
    "* Sign up for an API key by filling out the form\n",
    "* Check your email for the API key\n",
    "* Create a .txt file and save *just the text of the api key* in the file\n",
    "    * For example, in the code below, my API key is saved in a file called \"`nasa_api_key.txt`\"\n",
    "\n",
    "#### APOD Query Parameters\n",
    "\n",
    "| Parameter   | Type        | Default   | Description                                                                                                      |\n",
    "|-------------|-------------|-----------|------------------------------------------------------------------------------------------------------------------|\n",
    "| date        | YYYY-MM-DD  | today     | The date of the APOD image to retrieve                                                                           |\n",
    "| start_date  | YYYY-MM-DD  | none      | The start of a date range, when requesting date for a range of dates. Cannot be used with date.                   |\n",
    "| end_date    | YYYY-MM-DD  | today     | The end of the date range, when used with start_date.                                                            |\n",
    "| count       | int         | none      | If this is specified then count randomly chosen images will be returned. Cannot be used with date or start_date and end_date. |\n",
    "| thumbs      | bool        | False     | Return the URL of video thumbnail. If an APOD is not a video, this parameter is ignored.                          |\n",
    "| api_key     | string      | DEMO_KEY  | api.nasa.gov key for expanded usage                                                                              |\n",
    "\n",
    "Example query:\n",
    "```\n",
    "https://api.nasa.gov/planetary/apod?api_key=DEMO_KEY\n",
    "```"
   ]
  },
  {
   "cell_type": "code",
   "execution_count": null,
   "id": "7745cdaa",
   "metadata": {},
   "outputs": [],
   "source": [
    "base_url = \"https://api.nasa.gov/planetary/apod\""
   ]
  },
  {
   "cell_type": "code",
   "execution_count": null,
   "id": "bfa5536c",
   "metadata": {},
   "outputs": [],
   "source": [
    "# set the text of my api key to a variable called `nasa_key`\n",
    "with open('nasa_api_key.txt', 'r') as file:\n",
    "    nasa_key = file.read()"
   ]
  },
  {
   "cell_type": "markdown",
   "id": "4d58826c",
   "metadata": {},
   "source": [
    "Let's query all the APODs from Oct 1, 2023 - Oct 7, 2023\n",
    "* The documentation specifies that query parameters should be entered as url parameters (indicated by the `?` in the url)\n",
    "* We can easily specify the query options using the `params` argument in the `.get` method\n",
    "* In order to do this, set up a dictionary such that \n",
    "    * the key is the parameter name (indicated in the documentation)\n",
    "    * the value is the our query choice\n",
    "* `requests.get()` will automatically make sure that our parameters are formatted into valid urls\n"
   ]
  },
  {
   "cell_type": "markdown",
   "id": "09a75c01",
   "metadata": {},
   "source": []
  },
  {
   "cell_type": "code",
   "execution_count": null,
   "id": "196c5e9e",
   "metadata": {},
   "outputs": [],
   "source": [
    "params = {'api_key':nasa_key,\n",
    "          'start_date': '2023-10-01',\n",
    "          'end_date': '2023-10-07'}"
   ]
  },
  {
   "cell_type": "code",
   "execution_count": null,
   "id": "84611fca",
   "metadata": {},
   "outputs": [],
   "source": [
    "r = requests.get(base_url, params=params)"
   ]
  },
  {
   "cell_type": "code",
   "execution_count": null,
   "id": "e2f6029d",
   "metadata": {},
   "outputs": [],
   "source": [
    "r.url"
   ]
  },
  {
   "cell_type": "code",
   "execution_count": null,
   "id": "d50699a8",
   "metadata": {},
   "outputs": [],
   "source": [
    "r.status_code"
   ]
  },
  {
   "cell_type": "code",
   "execution_count": null,
   "id": "c46f26c5",
   "metadata": {},
   "outputs": [],
   "source": []
  },
  {
   "cell_type": "markdown",
   "id": "4ec263d6",
   "metadata": {},
   "source": [
    "## Exchange Rates API\n",
    "\n",
    "[Documentation](https://apilayer.com/marketplace/exchangerates_data-api)\n",
    "\n",
    "Sign up for an API key:\n",
    "* Go to [https://apilayer.com/marketplace/exchangerates_data-api](https://apilayer.com/marketplace/exchangerates_data-api)\n",
    "* You'll have to verify your email address and sign in\n",
    "* If you are taken back to the main page, search for \"exchange rates\" and click on \"Exchange Rates Data API\"\n",
    "* Under Pricing, find \"Free Plan\" and click \"Subscribe\"\n",
    "* If everything went well, you should then see a screen that says \"Subscription successful\" and \"Your API Key\"\n",
    "* Copy your API key to the clipboard and then save it in a .txt file (choose a sensible name for the file like \"`exchange_rates_apikey.txt`\")\n",
    "* **NEVER NEVER NEVER post your API key in a public place.  Anytime you use Git or GitHub with any API key, include the file with the key information in the `.gitignore` file**\n",
    "\n",
    "### Authenticating \n",
    "\n",
    "The NASA API, wanted us to authenticate with the api-key as a parameter in the url.  However, the documentation for this API says that the API key should be specified in a **header**.\n",
    "* Headers provide metadata about the request or response.  Some APIs (such as this one) require that the API key be specified in a header. \n",
    "    * Headers might also contain content type, return data type, user-agent, etc.  Generally the API documentation will specify \n",
    "\n",
    "\n",
    "### Endpoints\n",
    "* `/convert`\n",
    "* `/fluctuation`\n",
    "* `/latest`\n",
    "* `/symbols`\n",
    "* `/timeseries`\n",
    "* `/{date}`\n",
    "\n",
    "Each endpoint has its own parameters (or sometimes no parameters).  As with many API endpoints, some parameters are required and others are optional.\n",
    "\n",
    "\n",
    "#### Example\n",
    "For example, let's look at the `/convert` endpoint.  There are three required parameters and one optional:\n",
    "* amount (required) - amount to be converted\n",
    "* from (required) - three-letter currency code for the currency you would like to convert from\n",
    "* to (required) - three-letter currency code for the currency you would like to convert to\n",
    "* date (optional) - specify a date to use historical rates (default is latest)\n"
   ]
  },
  {
   "cell_type": "code",
   "execution_count": null,
   "id": "280a911f",
   "metadata": {},
   "outputs": [],
   "source": [
    "## First, get the api key\n",
    "with open('exchange_rates_apikey.txt', 'r') as file:\n",
    "    apikey = file.read()"
   ]
  },
  {
   "cell_type": "code",
   "execution_count": null,
   "id": "203ff800",
   "metadata": {},
   "outputs": [],
   "source": [
    "# set up the headers\n",
    "headers= {\n",
    "  \"apikey\": apikey\n",
    "}"
   ]
  },
  {
   "cell_type": "code",
   "execution_count": null,
   "id": "137030a5",
   "metadata": {},
   "outputs": [],
   "source": [
    "# specify base_url and endpoint url (or this could be done in one step)\n",
    "base_url = \"https://api.apilayer.com/exchangerates_data\"\n",
    "endpoint = '/convert'\n",
    "url = base_url + endpoint"
   ]
  },
  {
   "cell_type": "code",
   "execution_count": null,
   "id": "de3cfa24",
   "metadata": {},
   "outputs": [],
   "source": [
    "# set up parameters.  I'm going to specify 35 Euros to US Dollars for Oct 8, 2023\n",
    "params = {'amount':'35',\n",
    "          'from':'EUR',\n",
    "          'to':'USD',\n",
    "          'date': '2023-10-08'}"
   ]
  },
  {
   "cell_type": "markdown",
   "id": "e6efe8d9",
   "metadata": {},
   "source": []
  },
  {
   "cell_type": "code",
   "execution_count": null,
   "id": "d1e8984e",
   "metadata": {},
   "outputs": [],
   "source": [
    "r = requests.get(url, headers=headers, params=params)\n",
    "print(r.ok)\n",
    "print(r.url)"
   ]
  },
  {
   "cell_type": "code",
   "execution_count": null,
   "id": "580c0728",
   "metadata": {},
   "outputs": [],
   "source": []
  },
  {
   "cell_type": "code",
   "execution_count": null,
   "id": "d7a2b0cb",
   "metadata": {},
   "outputs": [],
   "source": [
    "r.json()"
   ]
  },
  {
   "cell_type": "markdown",
   "id": "b317a9e5",
   "metadata": {},
   "source": [
    "## Wikipedia API\n",
    "\n",
    "[API Documentation](https://www.mediawiki.org/wiki/API:Main_page)\n",
    "\n",
    "Some APIs (and websites) want you to specify who you are through a `user-agent` parameter.  This can be the browser user-agent, but it can also be just a description of your project.  \n",
    "\n",
    "The Wikipedia API requests that you specify the user-agent per their [policy](https://meta.wikimedia.org/wiki/User-Agent_policy).  The basic format is `Project name (email@email.com)`"
   ]
  },
  {
   "cell_type": "code",
   "execution_count": null,
   "id": "2aa9bbfb",
   "metadata": {},
   "outputs": [],
   "source": [
    "user_agent = 'Practice with APIs for Stat 386/0.0 (esnt@byu.edu)'\n",
    "headers = {'User-Agent':user_agent}"
   ]
  },
  {
   "cell_type": "code",
   "execution_count": null,
   "id": "7530fc99",
   "metadata": {},
   "outputs": [],
   "source": [
    "base_url = \"https://en.wikipedia.org/w/api.php\"\n",
    "params = {'action':'query',\n",
    "          'list':'search',\n",
    "          'srsearch': 'Star Wars',\n",
    "          'format': 'json'}"
   ]
  },
  {
   "cell_type": "code",
   "execution_count": null,
   "id": "0d01db8e",
   "metadata": {},
   "outputs": [],
   "source": [
    "r = requests.get(base_url, params=params)"
   ]
  },
  {
   "cell_type": "code",
   "execution_count": null,
   "id": "d9053bf3",
   "metadata": {},
   "outputs": [],
   "source": [
    "r.text"
   ]
  },
  {
   "cell_type": "markdown",
   "id": "78fe5e8f",
   "metadata": {},
   "source": [
    "## The Movie Database (TMDb)\n",
    "\n",
    "[Website](https://www.themoviedb.org/?language=en-US) and [API Documentation](https://developer.themoviedb.org/docs)"
   ]
  },
  {
   "cell_type": "code",
   "execution_count": null,
   "id": "36a44668",
   "metadata": {},
   "outputs": [],
   "source": [
    "base_url = \"https://api.themoviedb.org/3/search/movie\"\n",
    "\n",
    "with open('tmdb_api_key.txt', 'r') as file:\n",
    "    apikey = file.readlines()[1].strip()\n"
   ]
  },
  {
   "cell_type": "code",
   "execution_count": null,
   "id": "5785f0ab",
   "metadata": {},
   "outputs": [],
   "source": [
    "headers = {\n",
    "    \"accept\": \"application/json\",\n",
    "    \"Authorization\": \"Bearer \" + apikey}"
   ]
  },
  {
   "cell_type": "code",
   "execution_count": null,
   "id": "f3021666",
   "metadata": {},
   "outputs": [],
   "source": [
    "results = []\n",
    "for page in range(1,10,1):\n",
    "\n",
    "    params = {'include_adult':'false',\n",
    "            'language':\"en-US\",\n",
    "            'query':'Star Wars',\n",
    "            'page': str(page)}\n",
    "    \n",
    "    response = requests.get(base_url, headers=headers, params=params)\n",
    "\n",
    "    print(response.status_code)\n",
    "    if response.ok:\n",
    "        results.extend(response.json()['results'])"
   ]
  },
  {
   "cell_type": "code",
   "execution_count": null,
   "id": "62ed12b3",
   "metadata": {},
   "outputs": [],
   "source": [
    "sw = pd.DataFrame(results)\n",
    "sw = sw[['original_title','popularity','release_date','title','vote_average','vote_count']]"
   ]
  },
  {
   "cell_type": "code",
   "execution_count": null,
   "id": "ef5f6181",
   "metadata": {},
   "outputs": [],
   "source": [
    "sw.sort_values(by='popularity', ascending=False).head(10)"
   ]
  },
  {
   "cell_type": "code",
   "execution_count": null,
   "id": "659d9f92",
   "metadata": {},
   "outputs": [],
   "source": [
    "sw[sw.vote_count>500].sort_values(by='vote_average', ascending=False).head(10)"
   ]
  }
 ],
 "metadata": {
  "kernelspec": {
   "display_name": "Python 3 (ipykernel)",
   "language": "python",
   "name": "python3"
  },
  "language_info": {
   "codemirror_mode": {
    "name": "ipython",
    "version": 3
   },
   "file_extension": ".py",
   "mimetype": "text/x-python",
   "name": "python",
   "nbconvert_exporter": "python",
   "pygments_lexer": "ipython3",
   "version": "3.11.7"
  }
 },
 "nbformat": 4,
 "nbformat_minor": 5
}
