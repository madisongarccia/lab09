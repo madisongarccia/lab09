{
 "cells": [
  {
   "cell_type": "code",
   "execution_count": 1,
   "metadata": {},
   "outputs": [],
   "source": [
    "import pandas as pd\n",
    "import numpy as np"
   ]
  },
  {
   "cell_type": "code",
   "execution_count": 2,
   "metadata": {},
   "outputs": [],
   "source": [
    "from bs4 import BeautifulSoup\n",
    "import requests\n",
    "import re"
   ]
  },
  {
   "cell_type": "code",
   "execution_count": 3,
   "metadata": {},
   "outputs": [],
   "source": [
    "import time"
   ]
  },
  {
   "cell_type": "code",
   "execution_count": 6,
   "metadata": {},
   "outputs": [
    {
     "data": {
      "text/plain": [
       "200"
      ]
     },
     "execution_count": 6,
     "metadata": {},
     "output_type": "execute_result"
    }
   ],
   "source": [
    "url = \"https://statistics.byu.edu/directory/blades-natalie-j\"\n",
    "result = requests.get(url)\n",
    "result.status_code"
   ]
  },
  {
   "cell_type": "code",
   "execution_count": 13,
   "metadata": {},
   "outputs": [],
   "source": [
    "soup = BeautifulSoup(result.text)\n",
    "#print(soup.prettify())"
   ]
  },
  {
   "cell_type": "code",
   "execution_count": 12,
   "metadata": {},
   "outputs": [
    {
     "data": {
      "text/plain": [
       "<title>Blades, Natalie J.</title>"
      ]
     },
     "execution_count": 12,
     "metadata": {},
     "output_type": "execute_result"
    }
   ],
   "source": [
    "soup.find(\"title\")"
   ]
  },
  {
   "cell_type": "code",
   "execution_count": 14,
   "metadata": {},
   "outputs": [
    {
     "data": {
      "text/plain": [
       "'Office: 2190 WVB'"
      ]
     },
     "execution_count": 14,
     "metadata": {},
     "output_type": "execute_result"
    }
   ],
   "source": [
    "soup.find(\"p\").text"
   ]
  },
  {
   "cell_type": "code",
   "execution_count": 16,
   "metadata": {},
   "outputs": [
    {
     "data": {
      "text/plain": [
       "bs4.element.ResultSet"
      ]
     },
     "execution_count": 16,
     "metadata": {},
     "output_type": "execute_result"
    }
   ],
   "source": [
    "soup.find_all(\"title\") #find_all will always return a list no matter how many there are"
   ]
  },
  {
   "cell_type": "code",
   "execution_count": 20,
   "metadata": {},
   "outputs": [
    {
     "data": {
      "text/plain": [
       "['Blades, Natalie J.', 'Close', 'Home', 'Burger Menu Icon']"
      ]
     },
     "execution_count": 20,
     "metadata": {},
     "output_type": "execute_result"
    }
   ],
   "source": [
    "titles = []\n",
    "for item in soup.find_all(\"title\"):\n",
    "    titles.append(item.text)\n",
    "\n",
    "titles"
   ]
  },
  {
   "cell_type": "code",
   "execution_count": 24,
   "metadata": {},
   "outputs": [],
   "source": [
    "name = soup.find(\"title\").text\n",
    "job_title = soup.find(\"div\", {\"class\": \"EmployeePage-jobTitle\"}).text\n",
    "location = soup.find(\"p\").text\n",
    "phone = soup.find(\"div\", class_ = \"EmployeePage-phoneNumber description-text\").text.strip().strip(\"Phone: \")\n",
    "email = soup.find(\"div\", class_ = \"EmployeePage-email description-text\").text.strip().strip(\"Email: \").strip()\n",
    "website = soup.find(\"div\", class_ = \"EmployeePage-websiteLink\").text.strip().strip(\"Website: \").strip()"
   ]
  },
  {
   "cell_type": "code",
   "execution_count": null,
   "metadata": {},
   "outputs": [],
   "source": []
  },
  {
   "cell_type": "markdown",
   "metadata": {},
   "source": [
    "### Example: Statistics Department Directory"
   ]
  },
  {
   "cell_type": "code",
   "execution_count": 41,
   "metadata": {},
   "outputs": [],
   "source": [
    "url = 'https://statistics.byu.edu/directory'"
   ]
  },
  {
   "cell_type": "code",
   "execution_count": 42,
   "metadata": {},
   "outputs": [],
   "source": [
    "result = requests.get(url)"
   ]
  },
  {
   "cell_type": "code",
   "execution_count": 43,
   "metadata": {},
   "outputs": [
    {
     "data": {
      "text/plain": [
       "200"
      ]
     },
     "execution_count": 43,
     "metadata": {},
     "output_type": "execute_result"
    }
   ],
   "source": [
    "result.status_code"
   ]
  },
  {
   "cell_type": "code",
   "execution_count": 44,
   "metadata": {},
   "outputs": [],
   "source": [
    "bs = BeautifulSoup(result.text)"
   ]
  },
  {
   "cell_type": "code",
   "execution_count": 53,
   "metadata": {},
   "outputs": [],
   "source": [
    "links = [link['href'] for link in soup.find_all(\"a\") if \"/directory/\" in str(link)]"
   ]
  },
  {
   "cell_type": "code",
   "execution_count": 55,
   "metadata": {},
   "outputs": [
    {
     "data": {
      "text/plain": [
       "{'https://statistics.byu.edu/directory/blades-natalie-j',\n",
       " 'https://statistics.byu.edu/directory/candace-berrett',\n",
       " 'https://statistics.byu.edu/directory/christensen-william-f',\n",
       " 'https://statistics.byu.edu/directory/dahl-david-b',\n",
       " 'https://statistics.byu.edu/directory/fellingham-gilbert-w',\n",
       " 'https://statistics.byu.edu/directory/grimshaw-scott-d',\n",
       " 'https://statistics.byu.edu/directory/hartman-brian',\n",
       " 'https://statistics.byu.edu/directory/heaton-matthew',\n",
       " 'https://statistics.byu.edu/directory/jared-fisher',\n",
       " 'https://statistics.byu.edu/directory/larsen-diana',\n",
       " 'https://statistics.byu.edu/directory/matthew-j-heiner',\n",
       " 'https://statistics.byu.edu/directory/nielsen-lynne',\n",
       " 'https://statistics.byu.edu/directory/orton-jamison',\n",
       " 'https://statistics.byu.edu/directory/page-garritt',\n",
       " 'https://statistics.byu.edu/directory/perrett-jamie',\n",
       " 'https://statistics.byu.edu/directory/petersen-alex',\n",
       " 'https://statistics.byu.edu/directory/reese-shane',\n",
       " 'https://statistics.byu.edu/directory/richardson-robert',\n",
       " 'https://statistics.byu.edu/directory/sandholtz-nate',\n",
       " 'https://statistics.byu.edu/directory/scott-del-t',\n",
       " 'https://statistics.byu.edu/directory/smith-brandon',\n",
       " 'https://statistics.byu.edu/directory/snow-greg',\n",
       " 'https://statistics.byu.edu/directory/tass-shannon',\n",
       " 'https://statistics.byu.edu/directory/teuscher-david',\n",
       " 'https://statistics.byu.edu/directory/tiffany-hilton',\n",
       " 'https://statistics.byu.edu/directory/tolley-h-dennis',\n",
       " 'https://statistics.byu.edu/directory/tomlinson-allie',\n",
       " 'https://statistics.byu.edu/directory/wang-jie',\n",
       " 'https://statistics.byu.edu/directory/warr-richard',\n",
       " 'https://statistics.byu.edu/directory/white-philip',\n",
       " 'https://statistics.byu.edu/directory/williams-dan',\n",
       " 'https://statistics.byu.edu/directory/yamamoto-jennifer',\n",
       " 'https://statistics.byu.edu/directory/zabriskie-brinley'}"
      ]
     },
     "execution_count": 55,
     "metadata": {},
     "output_type": "execute_result"
    }
   ],
   "source": [
    "#remove duplicate links\n",
    "links = set(links)"
   ]
  },
  {
   "cell_type": "code",
   "execution_count": 62,
   "metadata": {},
   "outputs": [],
   "source": [
    "names = []\n",
    "job_titles = []\n",
    "offices = []\n",
    "phones = []\n",
    "websites = []\n",
    "emails = []\n",
    "\n",
    "for link in links:\n",
    "    r = requests.get(link)\n",
    "    if r.ok:\n",
    "        this = BeautifulSoup(r.text)\n",
    "        try:\n",
    "            websites.append(this.find(\"div\", class_ = \"EmployeePage-websiteLink\").text.strip().strip(\"Website: \").strip())\n",
    "            names.append(this.find(\"title\").text)\n",
    "            job_titles.append(this.find(\"div\", {\"class\": \"EmployeePage-jobTitle\"}).text)\n",
    "            offices.append(this.find(\"p\").text)\n",
    "            phones.append(this.find(\"div\", class_ = \"EmployeePage-phoneNumber description-text\").text.strip().strip(\"Phone: \"))\n",
    "            emails.append(this.find(\"div\", class_ = \"EmployeePage-email description-text\").text.strip().strip(\"Email: \").strip())\n",
    "        except:\n",
    "            pass\n",
    "                    "
   ]
  },
  {
   "cell_type": "code",
   "execution_count": 63,
   "metadata": {},
   "outputs": [],
   "source": [
    "df = pd.DataFrame({\"name\": names,\n",
    "                   \"title\": job_titles,\n",
    "                   \"office\": offices,\n",
    "                   \"website\": websites,\n",
    "                   \"email\": emails,\n",
    "                   \"phone\": phones})"
   ]
  },
  {
   "cell_type": "code",
   "execution_count": null,
   "metadata": {},
   "outputs": [],
   "source": []
  },
  {
   "cell_type": "code",
   "execution_count": null,
   "metadata": {},
   "outputs": [],
   "source": []
  },
  {
   "cell_type": "code",
   "execution_count": null,
   "metadata": {},
   "outputs": [],
   "source": [
    "#url = 'https://statistics.byu.edu/timetravel'"
   ]
  },
  {
   "cell_type": "code",
   "execution_count": null,
   "metadata": {},
   "outputs": [],
   "source": [
    "#r = requests.get(url)"
   ]
  },
  {
   "cell_type": "code",
   "execution_count": null,
   "metadata": {},
   "outputs": [],
   "source": [
    "#r.status_code"
   ]
  },
  {
   "cell_type": "code",
   "execution_count": null,
   "metadata": {},
   "outputs": [],
   "source": [
    "# url = 'https://statistics.byu.edu/directory'\n",
    "# r = requests.get(url)\n",
    "# r.status_code"
   ]
  },
  {
   "cell_type": "code",
   "execution_count": null,
   "metadata": {},
   "outputs": [],
   "source": [
    "type(r.text)"
   ]
  },
  {
   "cell_type": "code",
   "execution_count": null,
   "metadata": {},
   "outputs": [],
   "source": [
    "#r.text"
   ]
  },
  {
   "cell_type": "code",
   "execution_count": null,
   "metadata": {},
   "outputs": [],
   "source": []
  },
  {
   "cell_type": "code",
   "execution_count": null,
   "metadata": {},
   "outputs": [],
   "source": [
    "soup = BeautifulSoup(r.text)"
   ]
  },
  {
   "cell_type": "code",
   "execution_count": null,
   "metadata": {},
   "outputs": [],
   "source": [
    "type(soup)"
   ]
  },
  {
   "cell_type": "code",
   "execution_count": null,
   "metadata": {},
   "outputs": [],
   "source": [
    "#soup\n",
    "#print(soup.prettify())"
   ]
  },
  {
   "cell_type": "code",
   "execution_count": null,
   "metadata": {},
   "outputs": [],
   "source": [
    "soup.title"
   ]
  },
  {
   "cell_type": "code",
   "execution_count": null,
   "metadata": {},
   "outputs": [],
   "source": [
    "soup.title.text"
   ]
  },
  {
   "cell_type": "code",
   "execution_count": null,
   "metadata": {},
   "outputs": [],
   "source": [
    "soup.find_all('title')"
   ]
  },
  {
   "cell_type": "code",
   "execution_count": null,
   "metadata": {},
   "outputs": [],
   "source": [
    "#find all the hyperlinks within a page's <a> tags\n",
    "#for link in soup.find_all('a'):\n",
    "    #print(link['href'])\n",
    "#    print(link.get('href'))"
   ]
  },
  {
   "cell_type": "code",
   "execution_count": null,
   "metadata": {},
   "outputs": [],
   "source": [
    "links = soup.find_all('a')\n",
    "links = [link['href'] for link in links if \"directory/\" in link['href']]"
   ]
  },
  {
   "cell_type": "code",
   "execution_count": null,
   "metadata": {},
   "outputs": [],
   "source": [
    "links = list(set(links))"
   ]
  },
  {
   "cell_type": "code",
   "execution_count": 27,
   "metadata": {},
   "outputs": [],
   "source": [
    "url = 'https://statistics.byu.edu/directory/tass-shannon'\n",
    "r = requests.get(url)\n",
    "bs = BeautifulSoup(r.text)"
   ]
  },
  {
   "cell_type": "code",
   "execution_count": null,
   "metadata": {},
   "outputs": [],
   "source": [
    "#print(bs.prettify())"
   ]
  },
  {
   "cell_type": "code",
   "execution_count": 28,
   "metadata": {},
   "outputs": [
    {
     "data": {
      "text/plain": [
       "'Tass, Shannon'"
      ]
     },
     "execution_count": 28,
     "metadata": {},
     "output_type": "execute_result"
    }
   ],
   "source": [
    "bs.find(\"h1\", {\"class\": \"EmployeePage-name\"}).get_text()"
   ]
  },
  {
   "cell_type": "code",
   "execution_count": null,
   "metadata": {},
   "outputs": [],
   "source": [
    "bs.find(\"div\", {\"class\": \"EmployeePage-email\"}).get_text().strip()"
   ]
  },
  {
   "cell_type": "code",
   "execution_count": null,
   "metadata": {},
   "outputs": [],
   "source": [
    "bs.find(\"div\", {\"class\": \"EmployeePage-jobTitle\"}).get_text()"
   ]
  },
  {
   "cell_type": "code",
   "execution_count": null,
   "metadata": {},
   "outputs": [],
   "source": [
    "bs.find(\"div\", {\"class\": \"EmployeePage-phoneNumber\"}).get_text()"
   ]
  },
  {
   "cell_type": "markdown",
   "metadata": {},
   "source": []
  },
  {
   "cell_type": "code",
   "execution_count": null,
   "metadata": {},
   "outputs": [],
   "source": [
    "bs.find(\"div\", {\"class\": \"EmployeePage-address\"}).get_text().strip()"
   ]
  },
  {
   "cell_type": "code",
   "execution_count": null,
   "metadata": {},
   "outputs": [],
   "source": [
    "bs.find(\"div\", {\"class\":\"EmployeePage-websiteLink\"}).get_text().strip()"
   ]
  },
  {
   "cell_type": "code",
   "execution_count": 1,
   "metadata": {},
   "outputs": [
    {
     "ename": "NameError",
     "evalue": "name 'soup' is not defined",
     "output_type": "error",
     "traceback": [
      "\u001b[0;31m---------------------------------------------------------------------------\u001b[0m",
      "\u001b[0;31mNameError\u001b[0m                                 Traceback (most recent call last)",
      "Cell \u001b[0;32mIn[1], line 2\u001b[0m\n\u001b[1;32m      1\u001b[0m links \u001b[38;5;241m=\u001b[39m []\n\u001b[0;32m----> 2\u001b[0m \u001b[38;5;28;01mfor\u001b[39;00m link \u001b[38;5;129;01min\u001b[39;00m soup\u001b[38;5;241m.\u001b[39mfind_all(\u001b[38;5;124m'\u001b[39m\u001b[38;5;124ma\u001b[39m\u001b[38;5;124m'\u001b[39m):\n\u001b[1;32m      3\u001b[0m     href \u001b[38;5;241m=\u001b[39m link\u001b[38;5;241m.\u001b[39mget(\u001b[38;5;124m'\u001b[39m\u001b[38;5;124mhref\u001b[39m\u001b[38;5;124m'\u001b[39m)\n\u001b[1;32m      4\u001b[0m     \u001b[38;5;28;01mif\u001b[39;00m \u001b[38;5;124m'\u001b[39m\u001b[38;5;124m/m/\u001b[39m\u001b[38;5;124m'\u001b[39m \u001b[38;5;129;01min\u001b[39;00m href:\n",
      "\u001b[0;31mNameError\u001b[0m: name 'soup' is not defined"
     ]
    }
   ],
   "source": [
    "links = []\n",
    "for link in soup.find_all('a'):\n",
    "    href = link.get('href')\n",
    "    if 'directory/' in href:\n",
    "        links.append(href)\n",
    "links = set(links)"
   ]
  },
  {
   "cell_type": "code",
   "execution_count": null,
   "metadata": {},
   "outputs": [],
   "source": [
    "links"
   ]
  },
  {
   "cell_type": "code",
   "execution_count": null,
   "metadata": {},
   "outputs": [],
   "source": [
    "directory = {'name':[], 'title':[], 'office':[], 'phone':[], 'email':[], 'website':[]}\n",
    "for url in links:\n",
    "    r = requests.get(url)\n",
    "    time.sleep(10)\n",
    "    if r.ok:\n",
    "        bs = BeautifulSoup(r.text)\n",
    "        directory['name'].append(directory_item(bs, 'h1','EmployeePage-name'))                                  \n",
    "        directory['title'].append(directory_item(bs, \"div\", \"EmployeePage-jobTitle\"))\n",
    "        directory['office'].append(directory_item(bs, \"div\", \"EmployeePage-address\"))\n",
    "        directory['phone'].append(directory_item(bs, \"div\",\"EmployeePage-phoneNumber\"))\n",
    "        directory['email'].append(directory_item(bs, \"div\", \"EmployeePage-email\"))\n",
    "        directory['website'].append(directory_item(bs, \"div\", \"EmployeePage-websiteLink\"))"
   ]
  },
  {
   "cell_type": "code",
   "execution_count": null,
   "metadata": {},
   "outputs": [],
   "source": [
    "#directory"
   ]
  },
  {
   "cell_type": "code",
   "execution_count": null,
   "metadata": {},
   "outputs": [],
   "source": [
    "dirDF = pd.DataFrame(directory)"
   ]
  },
  {
   "cell_type": "code",
   "execution_count": null,
   "metadata": {},
   "outputs": [],
   "source": [
    "dirDF"
   ]
  },
  {
   "cell_type": "code",
   "execution_count": null,
   "metadata": {},
   "outputs": [],
   "source": []
  },
  {
   "cell_type": "code",
   "execution_count": null,
   "metadata": {},
   "outputs": [],
   "source": []
  }
 ],
 "metadata": {
  "kernelspec": {
   "display_name": "Python 3 (ipykernel)",
   "language": "python",
   "name": "python3"
  },
  "language_info": {
   "codemirror_mode": {
    "name": "ipython",
    "version": 3
   },
   "file_extension": ".py",
   "mimetype": "text/x-python",
   "name": "python",
   "nbconvert_exporter": "python",
   "pygments_lexer": "ipython3",
   "version": "3.11.7"
  }
 },
 "nbformat": 4,
 "nbformat_minor": 4
}
