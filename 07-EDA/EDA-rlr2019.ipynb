{
 "cells": [
  {
   "cell_type": "code",
   "execution_count": 1,
   "id": "07a21e4e",
   "metadata": {},
   "outputs": [],
   "source": [
    "import pandas as pd\n",
    "import numpy as np\n",
    "import matplotlib.pyplot as plt\n",
    "import seaborn as sns\n",
    "import plotly.express as px\n"
   ]
  },
  {
   "cell_type": "markdown",
   "metadata": {},
   "source": []
  },
  {
   "cell_type": "code",
   "execution_count": 2,
   "id": "cff16365",
   "metadata": {},
   "outputs": [],
   "source": [
    "url = \"https://github.com/esnt/Data/raw/main/Races/rlr2019.csv\"\n",
    "df = pd.read_csv(url)"
   ]
  },
  {
   "cell_type": "code",
   "execution_count": 3,
   "id": "ac3011db",
   "metadata": {},
   "outputs": [
    {
     "data": {
      "text/html": [
       "<div>\n",
       "<style scoped>\n",
       "    .dataframe tbody tr th:only-of-type {\n",
       "        vertical-align: middle;\n",
       "    }\n",
       "\n",
       "    .dataframe tbody tr th {\n",
       "        vertical-align: top;\n",
       "    }\n",
       "\n",
       "    .dataframe thead th {\n",
       "        text-align: right;\n",
       "    }\n",
       "</style>\n",
       "<table border=\"1\" class=\"dataframe\">\n",
       "  <thead>\n",
       "    <tr style=\"text-align: right;\">\n",
       "      <th></th>\n",
       "      <th>race</th>\n",
       "      <th>state</th>\n",
       "      <th>gun_min</th>\n",
       "      <th>chip_min</th>\n",
       "      <th>pace_min</th>\n",
       "      <th>gender</th>\n",
       "      <th>age</th>\n",
       "    </tr>\n",
       "  </thead>\n",
       "  <tbody>\n",
       "    <tr>\n",
       "      <th>0</th>\n",
       "      <td>5k</td>\n",
       "      <td>UT</td>\n",
       "      <td>39.833333</td>\n",
       "      <td>37.966667</td>\n",
       "      <td>12.250000</td>\n",
       "      <td>M</td>\n",
       "      <td>24.5</td>\n",
       "    </tr>\n",
       "    <tr>\n",
       "      <th>1</th>\n",
       "      <td>10k</td>\n",
       "      <td>UT</td>\n",
       "      <td>62.016667</td>\n",
       "      <td>61.900000</td>\n",
       "      <td>9.983333</td>\n",
       "      <td>F</td>\n",
       "      <td>24.5</td>\n",
       "    </tr>\n",
       "    <tr>\n",
       "      <th>2</th>\n",
       "      <td>5k</td>\n",
       "      <td>UT</td>\n",
       "      <td>39.516667</td>\n",
       "      <td>39.166667</td>\n",
       "      <td>12.633333</td>\n",
       "      <td>M</td>\n",
       "      <td>54.5</td>\n",
       "    </tr>\n",
       "    <tr>\n",
       "      <th>3</th>\n",
       "      <td>5k</td>\n",
       "      <td>UT</td>\n",
       "      <td>26.850000</td>\n",
       "      <td>26.550000</td>\n",
       "      <td>8.566667</td>\n",
       "      <td>M</td>\n",
       "      <td>44.5</td>\n",
       "    </tr>\n",
       "    <tr>\n",
       "      <th>4</th>\n",
       "      <td>5k</td>\n",
       "      <td>UT</td>\n",
       "      <td>43.200000</td>\n",
       "      <td>41.850000</td>\n",
       "      <td>13.500000</td>\n",
       "      <td>F</td>\n",
       "      <td>54.5</td>\n",
       "    </tr>\n",
       "  </tbody>\n",
       "</table>\n",
       "</div>"
      ],
      "text/plain": [
       "  race state    gun_min   chip_min   pace_min gender   age\n",
       "0   5k    UT  39.833333  37.966667  12.250000      M  24.5\n",
       "1  10k    UT  62.016667  61.900000   9.983333      F  24.5\n",
       "2   5k    UT  39.516667  39.166667  12.633333      M  54.5\n",
       "3   5k    UT  26.850000  26.550000   8.566667      M  44.5\n",
       "4   5k    UT  43.200000  41.850000  13.500000      F  54.5"
      ]
     },
     "execution_count": 3,
     "metadata": {},
     "output_type": "execute_result"
    }
   ],
   "source": [
    "df.head()"
   ]
  },
  {
   "cell_type": "code",
   "execution_count": 7,
   "metadata": {},
   "outputs": [],
   "source": [
    "df[\"difference\"] = (df[\"chip_min\"] - df[\"gun_min\"]).abs()\n"
   ]
  },
  {
   "cell_type": "code",
   "execution_count": null,
   "id": "e6e4d21b",
   "metadata": {},
   "outputs": [],
   "source": []
  }
 ],
 "metadata": {
  "kernelspec": {
   "display_name": "Python 3 (ipykernel)",
   "language": "python",
   "name": "python3"
  },
  "language_info": {
   "codemirror_mode": {
    "name": "ipython",
    "version": 3
   },
   "file_extension": ".py",
   "mimetype": "text/x-python",
   "name": "python",
   "nbconvert_exporter": "python",
   "pygments_lexer": "ipython3",
   "version": "3.11.7"
  }
 },
 "nbformat": 4,
 "nbformat_minor": 5
}
