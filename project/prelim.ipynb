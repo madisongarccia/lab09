{
 "cells": [
  {
   "cell_type": "code",
   "execution_count": 55,
   "metadata": {},
   "outputs": [],
   "source": [
    "import pandas as pd\n",
    "from selenium import webdriver\n",
    "from selenium.webdriver.chrome.service import Service as ChromeService\n",
    "from webdriver_manager.chrome import ChromeDriverManager\n",
    "from selenium.webdriver.common.by import By\n",
    "from bs4 import BeautifulSoup\n",
    "import requests\n",
    "import re\n",
    "import numpy as np"
   ]
  },
  {
   "cell_type": "code",
   "execution_count": 69,
   "metadata": {},
   "outputs": [],
   "source": [
    "url = 'https://www.indeed.com/jobs?q=Data+Science&l=Los+Angeles%2C+CA&vjk=74cadd03cb0dd918'\n",
    "driver = webdriver.Chrome(service=ChromeService(ChromeDriverManager().install()))\n",
    "driver.get(url)"
   ]
  },
  {
   "cell_type": "code",
   "execution_count": 4,
   "metadata": {},
   "outputs": [],
   "source": [
    "container = driver.find_element(By.XPATH, \".//div[contains(@id, 'mosaic-jobResults')]\")"
   ]
  },
  {
   "cell_type": "code",
   "execution_count": 5,
   "metadata": {},
   "outputs": [],
   "source": [
    "job_one = container.find_element(By.XPATH, \".//div[contains(@class, 'job_seen_beacon')]\")"
   ]
  },
  {
   "cell_type": "code",
   "execution_count": 6,
   "metadata": {},
   "outputs": [],
   "source": [
    "#first_title = job_one.find_element(By.XPATH, \".//h2[contains(@class, 'jobTitle')]\").text\n",
    "#first_company = job_one.find_element(By.XPATH, \".//div[contains(@class, 'company_location')]\").text.split(\"\\n\")[0]\n",
    "#first_rating = job_one.find_element(By.XPATH, \".//div[contains(@class, 'company_location')]\").text.split(\"\\n\")[1]\n",
    "#job_one.find_element(By.XPATH, \".//div[contains(@class, 'company_location')]\").text.split(\"\\n\")[2]\n",
    "#n = job_one.find_element(By.XPATH, \".//table[contains(@role, 'presentation')]\").text.split(\"\\n\")"
   ]
  },
  {
   "cell_type": "code",
   "execution_count": 7,
   "metadata": {},
   "outputs": [
    {
     "data": {
      "text/plain": [
       "'DataAnnotation is committed to creating quality AI. Join our team to help train AI chatbots while gaining the flexibility of remote work and choosing your own…\\nEmployer\\nActive Today'"
      ]
     },
     "execution_count": 7,
     "metadata": {},
     "output_type": "execute_result"
    }
   ],
   "source": [
    "job_one.find_element(By.XPATH, \".//tr[contains(@class, 'underShelfFooter')]\").text"
   ]
  },
  {
   "cell_type": "code",
   "execution_count": 8,
   "metadata": {},
   "outputs": [
    {
     "data": {
      "text/plain": [
       "'Active Today'"
      ]
     },
     "execution_count": 8,
     "metadata": {},
     "output_type": "execute_result"
    }
   ],
   "source": [
    "#job_one.find_element(By.XPATH, \"//span[contains(@data-testid, 'myJobsStateDate')]\").text.split(\"\\n\")[1]\n",
    "job_one.find_element(By.XPATH, \".//tr[contains(@class, 'underShelfFooter')]\").text.split(\"\\n\")[-1].strip(\"More...\")"
   ]
  },
  {
   "cell_type": "code",
   "execution_count": 9,
   "metadata": {},
   "outputs": [
    {
     "data": {
      "text/plain": [
       "['DataAnnotation', '4.5', 'Remote in Los Angeles, CA']"
      ]
     },
     "execution_count": 9,
     "metadata": {},
     "output_type": "execute_result"
    }
   ],
   "source": [
    "job_one.find_element(By.XPATH, \".//div[contains(@class, 'company_location')]\").text.split(\"\\n\")"
   ]
  },
  {
   "cell_type": "code",
   "execution_count": 10,
   "metadata": {},
   "outputs": [
    {
     "data": {
      "text/plain": [
       "[]"
      ]
     },
     "execution_count": 10,
     "metadata": {},
     "output_type": "execute_result"
    }
   ],
   "source": [
    "pagination = driver.find_element(By.XPATH, \".//nav[contains(@role, 'navigation')]\")\n",
    "last_page = pagination.find_elements(By.XPATH, \".//a[contains(@data-testid, 'pagination-page-5')]\")[-1].text\n",
    "pagination.find_elements(By.XPATH, \".//li[contains(@class, 'css227srf')]\")\n"
   ]
  },
  {
   "cell_type": "code",
   "execution_count": 11,
   "metadata": {},
   "outputs": [
    {
     "data": {
      "text/plain": [
       "[<selenium.webdriver.remote.webelement.WebElement (session=\"fa865dad2c59f04f6c356f447ee8fc91\", element=\"f.FA88FE06569919D6E3C606D758D18725.d.E8C8FB5F0AAEF5DE0C3DE191C3751448.e.500\")>,\n",
       " <selenium.webdriver.remote.webelement.WebElement (session=\"fa865dad2c59f04f6c356f447ee8fc91\", element=\"f.FA88FE06569919D6E3C606D758D18725.d.E8C8FB5F0AAEF5DE0C3DE191C3751448.e.577\")>,\n",
       " <selenium.webdriver.remote.webelement.WebElement (session=\"fa865dad2c59f04f6c356f447ee8fc91\", element=\"f.FA88FE06569919D6E3C606D758D18725.d.E8C8FB5F0AAEF5DE0C3DE191C3751448.e.635\")>,\n",
       " <selenium.webdriver.remote.webelement.WebElement (session=\"fa865dad2c59f04f6c356f447ee8fc91\", element=\"f.FA88FE06569919D6E3C606D758D18725.d.E8C8FB5F0AAEF5DE0C3DE191C3751448.e.704\")>,\n",
       " <selenium.webdriver.remote.webelement.WebElement (session=\"fa865dad2c59f04f6c356f447ee8fc91\", element=\"f.FA88FE06569919D6E3C606D758D18725.d.E8C8FB5F0AAEF5DE0C3DE191C3751448.e.756\")>,\n",
       " <selenium.webdriver.remote.webelement.WebElement (session=\"fa865dad2c59f04f6c356f447ee8fc91\", element=\"f.FA88FE06569919D6E3C606D758D18725.d.E8C8FB5F0AAEF5DE0C3DE191C3751448.e.758\")>,\n",
       " <selenium.webdriver.remote.webelement.WebElement (session=\"fa865dad2c59f04f6c356f447ee8fc91\", element=\"f.FA88FE06569919D6E3C606D758D18725.d.E8C8FB5F0AAEF5DE0C3DE191C3751448.e.814\")>,\n",
       " <selenium.webdriver.remote.webelement.WebElement (session=\"fa865dad2c59f04f6c356f447ee8fc91\", element=\"f.FA88FE06569919D6E3C606D758D18725.d.E8C8FB5F0AAEF5DE0C3DE191C3751448.e.866\")>,\n",
       " <selenium.webdriver.remote.webelement.WebElement (session=\"fa865dad2c59f04f6c356f447ee8fc91\", element=\"f.FA88FE06569919D6E3C606D758D18725.d.E8C8FB5F0AAEF5DE0C3DE191C3751448.e.918\")>,\n",
       " <selenium.webdriver.remote.webelement.WebElement (session=\"fa865dad2c59f04f6c356f447ee8fc91\", element=\"f.FA88FE06569919D6E3C606D758D18725.d.E8C8FB5F0AAEF5DE0C3DE191C3751448.e.970\")>,\n",
       " <selenium.webdriver.remote.webelement.WebElement (session=\"fa865dad2c59f04f6c356f447ee8fc91\", element=\"f.FA88FE06569919D6E3C606D758D18725.d.E8C8FB5F0AAEF5DE0C3DE191C3751448.e.1039\")>,\n",
       " <selenium.webdriver.remote.webelement.WebElement (session=\"fa865dad2c59f04f6c356f447ee8fc91\", element=\"f.FA88FE06569919D6E3C606D758D18725.d.E8C8FB5F0AAEF5DE0C3DE191C3751448.e.1041\")>,\n",
       " <selenium.webdriver.remote.webelement.WebElement (session=\"fa865dad2c59f04f6c356f447ee8fc91\", element=\"f.FA88FE06569919D6E3C606D758D18725.d.E8C8FB5F0AAEF5DE0C3DE191C3751448.e.1093\")>,\n",
       " <selenium.webdriver.remote.webelement.WebElement (session=\"fa865dad2c59f04f6c356f447ee8fc91\", element=\"f.FA88FE06569919D6E3C606D758D18725.d.E8C8FB5F0AAEF5DE0C3DE191C3751448.e.1145\")>,\n",
       " <selenium.webdriver.remote.webelement.WebElement (session=\"fa865dad2c59f04f6c356f447ee8fc91\", element=\"f.FA88FE06569919D6E3C606D758D18725.d.E8C8FB5F0AAEF5DE0C3DE191C3751448.e.1202\")>,\n",
       " <selenium.webdriver.remote.webelement.WebElement (session=\"fa865dad2c59f04f6c356f447ee8fc91\", element=\"f.FA88FE06569919D6E3C606D758D18725.d.E8C8FB5F0AAEF5DE0C3DE191C3751448.e.1254\")>,\n",
       " <selenium.webdriver.remote.webelement.WebElement (session=\"fa865dad2c59f04f6c356f447ee8fc91\", element=\"f.FA88FE06569919D6E3C606D758D18725.d.E8C8FB5F0AAEF5DE0C3DE191C3751448.e.1312\")>,\n",
       " <selenium.webdriver.remote.webelement.WebElement (session=\"fa865dad2c59f04f6c356f447ee8fc91\", element=\"f.FA88FE06569919D6E3C606D758D18725.d.E8C8FB5F0AAEF5DE0C3DE191C3751448.e.1314\")>]"
      ]
     },
     "execution_count": 11,
     "metadata": {},
     "output_type": "execute_result"
    }
   ],
   "source": [
    "container.find_elements(By.XPATH, \".//li[contains(@class, 'css-5lfssm')]\")"
   ]
  },
  {
   "cell_type": "code",
   "execution_count": 12,
   "metadata": {},
   "outputs": [
    {
     "name": "stdout",
     "output_type": "stream",
     "text": [
      "40\n"
     ]
    }
   ],
   "source": [
    "# try getting pay amount\n",
    "string = job_one.find_element(By.XPATH, \".//div[contains(@class, 'salary-snippet-container')]\").text\n",
    "listy = string.split()\n",
    "for element in listy:\n",
    "    if \"$\" in element:\n",
    "        pay = element\n",
    "\n",
    "print(pay.strip(\"$\"))\n"
   ]
  },
  {
   "cell_type": "code",
   "execution_count": 70,
   "metadata": {},
   "outputs": [],
   "source": [
    "job_titles = []\n",
    "company_names = []\n",
    "company_ratings = []\n",
    "company_locations = []\n",
    "job_pays = []\n",
    "descriptions = []\n",
    "posted = []\n",
    "current_page = 1\n",
    "\n",
    "pagination = driver.find_element(By.XPATH, \".//nav[contains(@role, 'navigation')]\")\n",
    "last_page = pagination.find_elements(By.XPATH, \".//a[contains(@data-testid, 'pagination-page-5')]\")[-1].text\n",
    "\n",
    "while current_page <= int(last_page):\n",
    "    container = driver.find_element(By.XPATH, \".//div[contains(@id, 'mosaic-jobResults')]\")\n",
    "    all_jobs = container.find_elements(By.XPATH, \".//div[contains(@class, 'job_seen_beacon')]\")\n",
    "    for job in all_jobs:\n",
    "        title = job.find_element(By.XPATH, \".//h2[contains(@class, 'jobTitle')]\").text\n",
    "        try:\n",
    "            location = job.find_element(By.XPATH, \".//div[contains(@class, 'company_location')]\").text.split(\"\\n\")[1]\n",
    "        except:\n",
    "            location = job.find_element(By.XPATH, \".//div[contains(@class, 'company_location')]\").text.split(\"\\n\")[0]\n",
    "        company = job.find_element(By.XPATH, \".//div[contains(@class, 'company_location')]\").text.split(\"\\n\")[0]\n",
    "        when_posted= job.find_element(By.XPATH, \".//tr[contains(@class, 'underShelfFooter')]\").text.split(\"\\n\")[-1].strip(\"More...\")\n",
    "        description = job.find_element(By.XPATH, \".//tr[contains(@class, 'underShelfFooter')]\").text.split(\"\\n\")[0]\n",
    "        try:\n",
    "            string = job.find_element(By.XPATH, \".//div[contains(@class, 'salary-snippet-container')]\").text\n",
    "            listy = string.split()\n",
    "            for element in listy:\n",
    "                if \"$\" in element:\n",
    "                    pay = element\n",
    "        except:\n",
    "            pay = \"NaN\"\n",
    "        job_titles.append(title)\n",
    "        job_pays.append(pay)\n",
    "        company_names.append(company)\n",
    "        descriptions.append(description)\n",
    "        company_locations.append(location)\n",
    "        posted.append(when_posted)\n",
    "    current_page += 1\n",
    "    try:\n",
    "        next = driver.find_element(By.XPATH, \".//a[contains(@data-testid, 'pagination-page-next')]\")\n",
    "        next.click()\n",
    "    except:\n",
    "        pass"
   ]
  },
  {
   "cell_type": "code",
   "execution_count": 43,
   "metadata": {},
   "outputs": [],
   "source": [
    "# goes to 5 pages\n",
    "job_titles = []\n",
    "company_names = []\n",
    "company_ratings = []\n",
    "company_locations = []\n",
    "job_pays = []\n",
    "descriptions = []\n",
    "posted = []\n",
    "current_page = 1\n",
    "\n",
    "pagination = driver.find_element(By.XPATH, \".//nav[contains(@role, 'navigation')]\")\n",
    "last_page = pagination.find_elements(By.XPATH, \".//a[contains(@data-testid, 'pagination-page-5')]\")[-1].text\n",
    "\n",
    "while current_page <= int(last_page):\n",
    "    container = driver.find_element(By.XPATH, \".//div[contains(@id, 'mosaic-jobResults')]\")\n",
    "    all_jobs = container.find_elements(By.XPATH, \".//div[contains(@class, 'job_seen_beacon')]\")\n",
    "    for job in all_jobs:\n",
    "        title = job.find_element(By.XPATH, \".//h2[contains(@class, 'jobTitle')]\").text\n",
    "        try:\n",
    "            location = job.find_element(By.XPATH, \".//div[contains(@class, 'company_location')]\").text.split(\"\\n\")[1]\n",
    "        except:\n",
    "            location = job.find_element(By.XPATH, \".//div[contains(@class, 'company_location')]\").text.split(\"\\n\")[0]\n",
    "        company = job.find_element(By.XPATH, \".//div[contains(@class, 'company_location')]\").text.split(\"\\n\")[0]\n",
    "        when_posted= job.find_element(By.XPATH, \".//tr[contains(@class, 'underShelfFooter')]\").text.split(\"\\n\")[-1].strip(\"More...\")\n",
    "        description = job.find_element(By.XPATH, \".//tr[contains(@class, 'underShelfFooter')]\").text.split(\"\\n\")[0]\n",
    "        job_titles.append(title)\n",
    "        job_pays.append(pay)\n",
    "        company_names.append(company)\n",
    "        descriptions.append(description)\n",
    "        company_locations.append(location)\n",
    "        posted.append(when_posted)\n",
    "    current_page += 1\n",
    "    try:\n",
    "        next = driver.find_element(By.XPATH, \".//a[contains(@data-testid, 'pagination-page-next')]\")\n",
    "        next.click()\n",
    "    except:\n",
    "        pass"
   ]
  },
  {
   "cell_type": "code",
   "execution_count": 21,
   "metadata": {},
   "outputs": [
    {
     "ename": "IndexError",
     "evalue": "list index out of range",
     "output_type": "error",
     "traceback": [
      "\u001b[0;31m---------------------------------------------------------------------------\u001b[0m",
      "\u001b[0;31mIndexError\u001b[0m                                Traceback (most recent call last)",
      "Cell \u001b[0;32mIn[21], line 19\u001b[0m\n\u001b[1;32m     17\u001b[0m title \u001b[38;5;241m=\u001b[39m job\u001b[38;5;241m.\u001b[39mfind_element(By\u001b[38;5;241m.\u001b[39mXPATH, \u001b[38;5;124m\"\u001b[39m\u001b[38;5;124m.//h2[contains(@class, \u001b[39m\u001b[38;5;124m'\u001b[39m\u001b[38;5;124mjobTitle\u001b[39m\u001b[38;5;124m'\u001b[39m\u001b[38;5;124m)]\u001b[39m\u001b[38;5;124m\"\u001b[39m)\u001b[38;5;241m.\u001b[39mtext\n\u001b[1;32m     18\u001b[0m company \u001b[38;5;241m=\u001b[39m job\u001b[38;5;241m.\u001b[39mfind_element(By\u001b[38;5;241m.\u001b[39mXPATH, \u001b[38;5;124m\"\u001b[39m\u001b[38;5;124m.//div[contains(@class, \u001b[39m\u001b[38;5;124m'\u001b[39m\u001b[38;5;124mcompany_location\u001b[39m\u001b[38;5;124m'\u001b[39m\u001b[38;5;124m)]\u001b[39m\u001b[38;5;124m\"\u001b[39m)\u001b[38;5;241m.\u001b[39mtext\u001b[38;5;241m.\u001b[39msplit(\u001b[38;5;124m\"\u001b[39m\u001b[38;5;130;01m\\n\u001b[39;00m\u001b[38;5;124m\"\u001b[39m)[\u001b[38;5;241m0\u001b[39m]\n\u001b[0;32m---> 19\u001b[0m location \u001b[38;5;241m=\u001b[39m job\u001b[38;5;241m.\u001b[39mfind_element(By\u001b[38;5;241m.\u001b[39mXPATH, \u001b[38;5;124m\"\u001b[39m\u001b[38;5;124m.//div[contains(@class, \u001b[39m\u001b[38;5;124m'\u001b[39m\u001b[38;5;124mcompany_location\u001b[39m\u001b[38;5;124m'\u001b[39m\u001b[38;5;124m)]\u001b[39m\u001b[38;5;124m\"\u001b[39m)\u001b[38;5;241m.\u001b[39mtext\u001b[38;5;241m.\u001b[39msplit(\u001b[38;5;124m\"\u001b[39m\u001b[38;5;130;01m\\n\u001b[39;00m\u001b[38;5;124m\"\u001b[39m)[\u001b[38;5;241m1\u001b[39m]\n\u001b[1;32m     20\u001b[0m when_posted\u001b[38;5;241m=\u001b[39m job\u001b[38;5;241m.\u001b[39mfind_element(By\u001b[38;5;241m.\u001b[39mXPATH, \u001b[38;5;124m\"\u001b[39m\u001b[38;5;124m//span[contains(@data-testid, \u001b[39m\u001b[38;5;124m'\u001b[39m\u001b[38;5;124mmyJobsStateDate\u001b[39m\u001b[38;5;124m'\u001b[39m\u001b[38;5;124m)]\u001b[39m\u001b[38;5;124m\"\u001b[39m)\u001b[38;5;241m.\u001b[39mtext\u001b[38;5;241m.\u001b[39msplit(\u001b[38;5;124m\"\u001b[39m\u001b[38;5;130;01m\\n\u001b[39;00m\u001b[38;5;124m\"\u001b[39m)[\u001b[38;5;241m1\u001b[39m]\n\u001b[1;32m     21\u001b[0m description \u001b[38;5;241m=\u001b[39m job\u001b[38;5;241m.\u001b[39mfind_element(By\u001b[38;5;241m.\u001b[39mXPATH, \u001b[38;5;124m\"\u001b[39m\u001b[38;5;124m//div[contains(@class, \u001b[39m\u001b[38;5;124m'\u001b[39m\u001b[38;5;124mcss-9446fg\u001b[39m\u001b[38;5;124m'\u001b[39m\u001b[38;5;124m)]\u001b[39m\u001b[38;5;124m\"\u001b[39m)\u001b[38;5;241m.\u001b[39mtext\n",
      "\u001b[0;31mIndexError\u001b[0m: list index out of range"
     ]
    }
   ],
   "source": [
    "job_titles = []\n",
    "company_names = []\n",
    "company_ratings = []\n",
    "company_locations = []\n",
    "job_pays = []\n",
    "descriptions = []\n",
    "posted = []\n",
    "current_page = 1\n",
    "\n",
    "pagination = driver.find_element(By.XPATH, \".//nav[contains(@role, 'navigation')]\")\n",
    "last_page = pagination.find_elements(By.XPATH, \".//a[contains(@data-testid, 'pagination-page-5')]\")[-1].text\n",
    "\n",
    "while current_page <= int(last_page):\n",
    "    container = driver.find_element(By.XPATH, \".//div[contains(@id, 'mosaic-jobResults')]\")\n",
    "    all_jobs = container.find_elements(By.XPATH, \".//div[contains(@class, 'job_seen_beacon')]\")\n",
    "    for job in all_jobs:\n",
    "        title = job.find_element(By.XPATH, \".//h2[contains(@class, 'jobTitle')]\").text\n",
    "        company = job.find_element(By.XPATH, \".//div[contains(@class, 'company_location')]\").text.split(\"\\n\")[0]\n",
    "        location = job.find_element(By.XPATH, \".//div[contains(@class, 'company_location')]\").text.split(\"\\n\")[1]\n",
    "        when_posted= job.find_element(By.XPATH, \"//span[contains(@data-testid, 'myJobsStateDate')]\").text.split(\"\\n\")[1]\n",
    "        description = job.find_element(By.XPATH, \"//div[contains(@class, 'css-9446fg')]\").text\n",
    "        job_titles.append(title)\n",
    "        company_names.append(company)\n",
    "        descriptions.append(description)\n",
    "        company_locations.append(location)\n",
    "        posted.append(when_posted)\n",
    "    current_page += 1\n",
    "    try:\n",
    "        next = driver.find_element(By.XPATH, \".//a[contains(@data-testid, 'pagination-page-next')]\")\n",
    "        next.click()\n",
    "    except:\n",
    "        pass\n",
    "\n"
   ]
  },
  {
   "cell_type": "code",
   "execution_count": 71,
   "metadata": {},
   "outputs": [
    {
     "ename": "TypeError",
     "evalue": "'NoneType' object is not subscriptable",
     "output_type": "error",
     "traceback": [
      "\u001b[0;31m---------------------------------------------------------------------------\u001b[0m",
      "\u001b[0;31mTypeError\u001b[0m                                 Traceback (most recent call last)",
      "Cell \u001b[0;32mIn[71], line 11\u001b[0m\n\u001b[1;32m      9\u001b[0m state \u001b[38;5;241m=\u001b[39m parts[\u001b[38;5;241m1\u001b[39m] \u001b[38;5;28;01mif\u001b[39;00m \u001b[38;5;28mlen\u001b[39m(parts) \u001b[38;5;241m>\u001b[39m \u001b[38;5;241m1\u001b[39m \u001b[38;5;28;01melse\u001b[39;00m \u001b[38;5;28;01mNone\u001b[39;00m\n\u001b[1;32m     10\u001b[0m cities\u001b[38;5;241m.\u001b[39mappend(city)\n\u001b[0;32m---> 11\u001b[0m states\u001b[38;5;241m.\u001b[39mappend(state[:\u001b[38;5;241m2\u001b[39m])\n",
      "\u001b[0;31mTypeError\u001b[0m: 'NoneType' object is not subscriptable"
     ]
    }
   ],
   "source": [
    "#separate into city and state\n",
    "cities = []\n",
    "states = []\n",
    "\n",
    "# Parse location data\n",
    "for location in company_locations:\n",
    "    parts = location.split(', ')\n",
    "    city = parts[0]\n",
    "    state = parts[1] if len(parts) > 1 else None\n",
    "    cities.append(city)\n",
    "    states.append(state[:2])"
   ]
  },
  {
   "cell_type": "code",
   "execution_count": 56,
   "metadata": {},
   "outputs": [],
   "source": [
    "#make salaries integers\n",
    "salaries = []\n",
    "for salary in job_pays:\n",
    "    if salary == \"NaN\" or salary == \"\":\n",
    "        salaries.append(np.nan)\n",
    "    else:\n",
    "        salaries.append(int(salary.replace('$', '').replace(',', '')))"
   ]
  },
  {
   "cell_type": "code",
   "execution_count": 72,
   "metadata": {},
   "outputs": [
    {
     "ename": "ValueError",
     "evalue": "All arrays must be of the same length",
     "output_type": "error",
     "traceback": [
      "\u001b[0;31m---------------------------------------------------------------------------\u001b[0m",
      "\u001b[0;31mValueError\u001b[0m                                Traceback (most recent call last)",
      "Cell \u001b[0;32mIn[72], line 1\u001b[0m\n\u001b[0;32m----> 1\u001b[0m job_info \u001b[38;5;241m=\u001b[39m pd\u001b[38;5;241m.\u001b[39mDataFrame({\u001b[38;5;124m\"\u001b[39m\u001b[38;5;124mTitle\u001b[39m\u001b[38;5;124m\"\u001b[39m: job_titles,\n\u001b[1;32m      2\u001b[0m               \u001b[38;5;124m\"\u001b[39m\u001b[38;5;124mCompany\u001b[39m\u001b[38;5;124m\"\u001b[39m: company_names,\n\u001b[1;32m      3\u001b[0m               \u001b[38;5;124m\"\u001b[39m\u001b[38;5;124mLocation\u001b[39m\u001b[38;5;124m\"\u001b[39m: company_locations,\n\u001b[1;32m      4\u001b[0m               \u001b[38;5;124m\"\u001b[39m\u001b[38;5;124mJob Description\u001b[39m\u001b[38;5;124m\"\u001b[39m: descriptions,\n\u001b[1;32m      5\u001b[0m               \u001b[38;5;124m\"\u001b[39m\u001b[38;5;124mWhen Posted\u001b[39m\u001b[38;5;124m\"\u001b[39m: posted,\n\u001b[1;32m      6\u001b[0m               \u001b[38;5;124m\"\u001b[39m\u001b[38;5;124mPay\u001b[39m\u001b[38;5;124m\"\u001b[39m: salaries,\n\u001b[1;32m      7\u001b[0m               \u001b[38;5;124m\"\u001b[39m\u001b[38;5;124mCity\u001b[39m\u001b[38;5;124m\"\u001b[39m:cities,\n\u001b[1;32m      8\u001b[0m                \u001b[38;5;124m\"\u001b[39m\u001b[38;5;124mState\u001b[39m\u001b[38;5;124m\"\u001b[39m: states})\n\u001b[1;32m      9\u001b[0m job_info\n",
      "File \u001b[0;32m~/miniconda3/envs/stat386/lib/python3.11/site-packages/pandas/core/frame.py:733\u001b[0m, in \u001b[0;36mDataFrame.__init__\u001b[0;34m(self, data, index, columns, dtype, copy)\u001b[0m\n\u001b[1;32m    727\u001b[0m     mgr \u001b[38;5;241m=\u001b[39m \u001b[38;5;28mself\u001b[39m\u001b[38;5;241m.\u001b[39m_init_mgr(\n\u001b[1;32m    728\u001b[0m         data, axes\u001b[38;5;241m=\u001b[39m{\u001b[38;5;124m\"\u001b[39m\u001b[38;5;124mindex\u001b[39m\u001b[38;5;124m\"\u001b[39m: index, \u001b[38;5;124m\"\u001b[39m\u001b[38;5;124mcolumns\u001b[39m\u001b[38;5;124m\"\u001b[39m: columns}, dtype\u001b[38;5;241m=\u001b[39mdtype, copy\u001b[38;5;241m=\u001b[39mcopy\n\u001b[1;32m    729\u001b[0m     )\n\u001b[1;32m    731\u001b[0m \u001b[38;5;28;01melif\u001b[39;00m \u001b[38;5;28misinstance\u001b[39m(data, \u001b[38;5;28mdict\u001b[39m):\n\u001b[1;32m    732\u001b[0m     \u001b[38;5;66;03m# GH#38939 de facto copy defaults to False only in non-dict cases\u001b[39;00m\n\u001b[0;32m--> 733\u001b[0m     mgr \u001b[38;5;241m=\u001b[39m dict_to_mgr(data, index, columns, dtype\u001b[38;5;241m=\u001b[39mdtype, copy\u001b[38;5;241m=\u001b[39mcopy, typ\u001b[38;5;241m=\u001b[39mmanager)\n\u001b[1;32m    734\u001b[0m \u001b[38;5;28;01melif\u001b[39;00m \u001b[38;5;28misinstance\u001b[39m(data, ma\u001b[38;5;241m.\u001b[39mMaskedArray):\n\u001b[1;32m    735\u001b[0m     \u001b[38;5;28;01mfrom\u001b[39;00m \u001b[38;5;21;01mnumpy\u001b[39;00m\u001b[38;5;21;01m.\u001b[39;00m\u001b[38;5;21;01mma\u001b[39;00m \u001b[38;5;28;01mimport\u001b[39;00m mrecords\n",
      "File \u001b[0;32m~/miniconda3/envs/stat386/lib/python3.11/site-packages/pandas/core/internals/construction.py:503\u001b[0m, in \u001b[0;36mdict_to_mgr\u001b[0;34m(data, index, columns, dtype, typ, copy)\u001b[0m\n\u001b[1;32m    499\u001b[0m     \u001b[38;5;28;01melse\u001b[39;00m:\n\u001b[1;32m    500\u001b[0m         \u001b[38;5;66;03m# dtype check to exclude e.g. range objects, scalars\u001b[39;00m\n\u001b[1;32m    501\u001b[0m         arrays \u001b[38;5;241m=\u001b[39m [x\u001b[38;5;241m.\u001b[39mcopy() \u001b[38;5;28;01mif\u001b[39;00m \u001b[38;5;28mhasattr\u001b[39m(x, \u001b[38;5;124m\"\u001b[39m\u001b[38;5;124mdtype\u001b[39m\u001b[38;5;124m\"\u001b[39m) \u001b[38;5;28;01melse\u001b[39;00m x \u001b[38;5;28;01mfor\u001b[39;00m x \u001b[38;5;129;01min\u001b[39;00m arrays]\n\u001b[0;32m--> 503\u001b[0m \u001b[38;5;28;01mreturn\u001b[39;00m arrays_to_mgr(arrays, columns, index, dtype\u001b[38;5;241m=\u001b[39mdtype, typ\u001b[38;5;241m=\u001b[39mtyp, consolidate\u001b[38;5;241m=\u001b[39mcopy)\n",
      "File \u001b[0;32m~/miniconda3/envs/stat386/lib/python3.11/site-packages/pandas/core/internals/construction.py:114\u001b[0m, in \u001b[0;36marrays_to_mgr\u001b[0;34m(arrays, columns, index, dtype, verify_integrity, typ, consolidate)\u001b[0m\n\u001b[1;32m    111\u001b[0m \u001b[38;5;28;01mif\u001b[39;00m verify_integrity:\n\u001b[1;32m    112\u001b[0m     \u001b[38;5;66;03m# figure out the index, if necessary\u001b[39;00m\n\u001b[1;32m    113\u001b[0m     \u001b[38;5;28;01mif\u001b[39;00m index \u001b[38;5;129;01mis\u001b[39;00m \u001b[38;5;28;01mNone\u001b[39;00m:\n\u001b[0;32m--> 114\u001b[0m         index \u001b[38;5;241m=\u001b[39m _extract_index(arrays)\n\u001b[1;32m    115\u001b[0m     \u001b[38;5;28;01melse\u001b[39;00m:\n\u001b[1;32m    116\u001b[0m         index \u001b[38;5;241m=\u001b[39m ensure_index(index)\n",
      "File \u001b[0;32m~/miniconda3/envs/stat386/lib/python3.11/site-packages/pandas/core/internals/construction.py:677\u001b[0m, in \u001b[0;36m_extract_index\u001b[0;34m(data)\u001b[0m\n\u001b[1;32m    675\u001b[0m lengths \u001b[38;5;241m=\u001b[39m \u001b[38;5;28mlist\u001b[39m(\u001b[38;5;28mset\u001b[39m(raw_lengths))\n\u001b[1;32m    676\u001b[0m \u001b[38;5;28;01mif\u001b[39;00m \u001b[38;5;28mlen\u001b[39m(lengths) \u001b[38;5;241m>\u001b[39m \u001b[38;5;241m1\u001b[39m:\n\u001b[0;32m--> 677\u001b[0m     \u001b[38;5;28;01mraise\u001b[39;00m \u001b[38;5;167;01mValueError\u001b[39;00m(\u001b[38;5;124m\"\u001b[39m\u001b[38;5;124mAll arrays must be of the same length\u001b[39m\u001b[38;5;124m\"\u001b[39m)\n\u001b[1;32m    679\u001b[0m \u001b[38;5;28;01mif\u001b[39;00m have_dicts:\n\u001b[1;32m    680\u001b[0m     \u001b[38;5;28;01mraise\u001b[39;00m \u001b[38;5;167;01mValueError\u001b[39;00m(\n\u001b[1;32m    681\u001b[0m         \u001b[38;5;124m\"\u001b[39m\u001b[38;5;124mMixing dicts with non-Series may lead to ambiguous ordering.\u001b[39m\u001b[38;5;124m\"\u001b[39m\n\u001b[1;32m    682\u001b[0m     )\n",
      "\u001b[0;31mValueError\u001b[0m: All arrays must be of the same length"
     ]
    }
   ],
   "source": [
    "\n",
    "job_info = pd.DataFrame({\"Title\": job_titles,\n",
    "              \"Company\": company_names,\n",
    "              \"Location\": company_locations,\n",
    "              \"Job Description\": descriptions,\n",
    "              \"When Posted\": posted,\n",
    "              \"Pay\": salaries,\n",
    "              \"City\":cities,\n",
    "               \"State\": states})\n",
    "job_info"
   ]
  },
  {
   "cell_type": "code",
   "execution_count": 66,
   "metadata": {},
   "outputs": [
    {
     "data": {
      "text/html": [
       "<div>\n",
       "<style scoped>\n",
       "    .dataframe tbody tr th:only-of-type {\n",
       "        vertical-align: middle;\n",
       "    }\n",
       "\n",
       "    .dataframe tbody tr th {\n",
       "        vertical-align: top;\n",
       "    }\n",
       "\n",
       "    .dataframe thead th {\n",
       "        text-align: right;\n",
       "    }\n",
       "</style>\n",
       "<table border=\"1\" class=\"dataframe\">\n",
       "  <thead>\n",
       "    <tr style=\"text-align: right;\">\n",
       "      <th></th>\n",
       "      <th>Title</th>\n",
       "      <th>Company</th>\n",
       "      <th>Location</th>\n",
       "      <th>Job Description</th>\n",
       "      <th>When Posted</th>\n",
       "      <th>Pay</th>\n",
       "      <th>City</th>\n",
       "      <th>State</th>\n",
       "      <th>Is_Hybrid_Remote</th>\n",
       "    </tr>\n",
       "  </thead>\n",
       "  <tbody>\n",
       "    <tr>\n",
       "      <th>0</th>\n",
       "      <td>Product Data Analyst (Gaming)</td>\n",
       "      <td>TapBlaze</td>\n",
       "      <td>Los Angeles, CA 90025</td>\n",
       "      <td>Data Integrity: Ensure data accuracy and integ...</td>\n",
       "      <td>Posted 30+ days ago·</td>\n",
       "      <td>NaN</td>\n",
       "      <td>Los Angeles</td>\n",
       "      <td>CA</td>\n",
       "      <td>False</td>\n",
       "    </tr>\n",
       "    <tr>\n",
       "      <th>1</th>\n",
       "      <td>Data Scientist IV</td>\n",
       "      <td>OrangePeople</td>\n",
       "      <td>Bell, CA 90201</td>\n",
       "      <td>Experience finding, cleaning, and manipulating...</td>\n",
       "      <td>Active 4 days ago·</td>\n",
       "      <td>NaN</td>\n",
       "      <td>Bell</td>\n",
       "      <td>CA</td>\n",
       "      <td>False</td>\n",
       "    </tr>\n",
       "    <tr>\n",
       "      <th>2</th>\n",
       "      <td>Data Scientist- CalAIM</td>\n",
       "      <td>Heluna Health</td>\n",
       "      <td>Los Angeles, CA 90014</td>\n",
       "      <td>Coordinates and contributes to complex project...</td>\n",
       "      <td>Posted 30+ days ago·</td>\n",
       "      <td>NaN</td>\n",
       "      <td>Los Angeles</td>\n",
       "      <td>CA</td>\n",
       "      <td>False</td>\n",
       "    </tr>\n",
       "    <tr>\n",
       "      <th>3</th>\n",
       "      <td>Data Scientist</td>\n",
       "      <td>Core Digital Media</td>\n",
       "      <td>Hybrid remote in Los Angeles, CA</td>\n",
       "      <td>Do data explorations daily to uncover opportun...</td>\n",
       "      <td>Posted 30+ days ago·</td>\n",
       "      <td>NaN</td>\n",
       "      <td>Hybrid remote in Los Angeles</td>\n",
       "      <td>CA</td>\n",
       "      <td>True</td>\n",
       "    </tr>\n",
       "    <tr>\n",
       "      <th>4</th>\n",
       "      <td>Data Science Instructor</td>\n",
       "      <td>UCLA Extension</td>\n",
       "      <td>Los Angeles, CA</td>\n",
       "      <td>Minimum MS degree in computer science, statist...</td>\n",
       "      <td>Posted 30+ days ago·</td>\n",
       "      <td>NaN</td>\n",
       "      <td>Los Angeles</td>\n",
       "      <td>CA</td>\n",
       "      <td>False</td>\n",
       "    </tr>\n",
       "    <tr>\n",
       "      <th>...</th>\n",
       "      <td>...</td>\n",
       "      <td>...</td>\n",
       "      <td>...</td>\n",
       "      <td>...</td>\n",
       "      <td>...</td>\n",
       "      <td>...</td>\n",
       "      <td>...</td>\n",
       "      <td>...</td>\n",
       "      <td>...</td>\n",
       "    </tr>\n",
       "    <tr>\n",
       "      <th>70</th>\n",
       "      <td>DATA SCIENTIST</td>\n",
       "      <td>US Department of the Air Force - Agency Wide</td>\n",
       "      <td>Los Angeles, CA</td>\n",
       "      <td>Degree: Mathematics, statistics, computer scie...</td>\n",
       "      <td>Posted 30+ days ago·</td>\n",
       "      <td>NaN</td>\n",
       "      <td>Los Angeles</td>\n",
       "      <td>CA</td>\n",
       "      <td>False</td>\n",
       "    </tr>\n",
       "    <tr>\n",
       "      <th>71</th>\n",
       "      <td>Senior Live Product Data Analyst</td>\n",
       "      <td>TikTok</td>\n",
       "      <td>Hybrid remote in Los Angeles, CA</td>\n",
       "      <td>Bachelor degree or above, major in mathematics...</td>\n",
       "      <td>Posted 30+ days ago·</td>\n",
       "      <td>220611.0</td>\n",
       "      <td>Hybrid remote in Los Angeles</td>\n",
       "      <td>CA</td>\n",
       "      <td>True</td>\n",
       "    </tr>\n",
       "    <tr>\n",
       "      <th>72</th>\n",
       "      <td>Manager, Data Science</td>\n",
       "      <td>Disney Direct to Consumer</td>\n",
       "      <td>Santa Monica, CA</td>\n",
       "      <td>Experience fully integrating data science solu...</td>\n",
       "      <td>Posted 30+ days ago·</td>\n",
       "      <td>200200.0</td>\n",
       "      <td>Santa Monica</td>\n",
       "      <td>CA</td>\n",
       "      <td>False</td>\n",
       "    </tr>\n",
       "    <tr>\n",
       "      <th>73</th>\n",
       "      <td>Data Engineer (L4) - Content Knowledge Graph</td>\n",
       "      <td>Netflix</td>\n",
       "      <td>Los Angeles, CA</td>\n",
       "      <td>Obsessed data quality: build reliable and trus...</td>\n",
       "      <td>Posted 30+ days ago·</td>\n",
       "      <td>NaN</td>\n",
       "      <td>Los Angeles</td>\n",
       "      <td>CA</td>\n",
       "      <td>False</td>\n",
       "    </tr>\n",
       "    <tr>\n",
       "      <th>74</th>\n",
       "      <td>Data Scientist I</td>\n",
       "      <td>Trusaic</td>\n",
       "      <td>Los Angeles, CA 90010</td>\n",
       "      <td>Carefully review work, perform data checks, be...</td>\n",
       "      <td>Posted 30+ days ago·</td>\n",
       "      <td>NaN</td>\n",
       "      <td>Los Angeles</td>\n",
       "      <td>CA</td>\n",
       "      <td>False</td>\n",
       "    </tr>\n",
       "  </tbody>\n",
       "</table>\n",
       "<p>75 rows × 9 columns</p>\n",
       "</div>"
      ],
      "text/plain": [
       "                                           Title  \\\n",
       "0                  Product Data Analyst (Gaming)   \n",
       "1                              Data Scientist IV   \n",
       "2                         Data Scientist- CalAIM   \n",
       "3                                 Data Scientist   \n",
       "4                        Data Science Instructor   \n",
       "..                                           ...   \n",
       "70                                DATA SCIENTIST   \n",
       "71              Senior Live Product Data Analyst   \n",
       "72                         Manager, Data Science   \n",
       "73  Data Engineer (L4) - Content Knowledge Graph   \n",
       "74                              Data Scientist I   \n",
       "\n",
       "                                         Company  \\\n",
       "0                                       TapBlaze   \n",
       "1                                   OrangePeople   \n",
       "2                                  Heluna Health   \n",
       "3                             Core Digital Media   \n",
       "4                                 UCLA Extension   \n",
       "..                                           ...   \n",
       "70  US Department of the Air Force - Agency Wide   \n",
       "71                                        TikTok   \n",
       "72                     Disney Direct to Consumer   \n",
       "73                                       Netflix   \n",
       "74                                       Trusaic   \n",
       "\n",
       "                            Location  \\\n",
       "0             Los Angeles, CA 90025    \n",
       "1                     Bell, CA 90201   \n",
       "2              Los Angeles, CA 90014   \n",
       "3   Hybrid remote in Los Angeles, CA   \n",
       "4                    Los Angeles, CA   \n",
       "..                               ...   \n",
       "70                   Los Angeles, CA   \n",
       "71  Hybrid remote in Los Angeles, CA   \n",
       "72                  Santa Monica, CA   \n",
       "73                   Los Angeles, CA   \n",
       "74            Los Angeles, CA 90010    \n",
       "\n",
       "                                      Job Description           When Posted  \\\n",
       "0   Data Integrity: Ensure data accuracy and integ...  Posted 30+ days ago·   \n",
       "1   Experience finding, cleaning, and manipulating...    Active 4 days ago·   \n",
       "2   Coordinates and contributes to complex project...  Posted 30+ days ago·   \n",
       "3   Do data explorations daily to uncover opportun...  Posted 30+ days ago·   \n",
       "4   Minimum MS degree in computer science, statist...  Posted 30+ days ago·   \n",
       "..                                                ...                   ...   \n",
       "70  Degree: Mathematics, statistics, computer scie...  Posted 30+ days ago·   \n",
       "71  Bachelor degree or above, major in mathematics...  Posted 30+ days ago·   \n",
       "72  Experience fully integrating data science solu...  Posted 30+ days ago·   \n",
       "73  Obsessed data quality: build reliable and trus...  Posted 30+ days ago·   \n",
       "74  Carefully review work, perform data checks, be...  Posted 30+ days ago·   \n",
       "\n",
       "         Pay                          City State  Is_Hybrid_Remote  \n",
       "0        NaN                   Los Angeles    CA             False  \n",
       "1        NaN                          Bell    CA             False  \n",
       "2        NaN                   Los Angeles    CA             False  \n",
       "3        NaN  Hybrid remote in Los Angeles    CA              True  \n",
       "4        NaN                   Los Angeles    CA             False  \n",
       "..       ...                           ...   ...               ...  \n",
       "70       NaN                   Los Angeles    CA             False  \n",
       "71  220611.0  Hybrid remote in Los Angeles    CA              True  \n",
       "72  200200.0                  Santa Monica    CA             False  \n",
       "73       NaN                   Los Angeles    CA             False  \n",
       "74       NaN                   Los Angeles    CA             False  \n",
       "\n",
       "[75 rows x 9 columns]"
      ]
     },
     "execution_count": 66,
     "metadata": {},
     "output_type": "execute_result"
    }
   ],
   "source": [
    "#try getting hybrid or remote status\n",
    "def is_hybrid_remote(location):\n",
    "    return 'Hybrid' in location or 'Remote' in location\n",
    "\n",
    "# Apply the function to create a new column 'Is_Hybrid_Remote'\n",
    "job_info['Is_Hybrid_Remote'] = job_info['Location'].apply(is_hybrid_remote)\n",
    "job_info"
   ]
  },
  {
   "cell_type": "code",
   "execution_count": null,
   "metadata": {},
   "outputs": [],
   "source": []
  },
  {
   "cell_type": "code",
   "execution_count": 68,
   "metadata": {},
   "outputs": [],
   "source": [
    "#job_info.to_csv(\"more_info.csv\")"
   ]
  },
  {
   "cell_type": "code",
   "execution_count": 67,
   "metadata": {},
   "outputs": [],
   "source": [
    "driver.quit()"
   ]
  }
 ],
 "metadata": {
  "kernelspec": {
   "display_name": "stat386",
   "language": "python",
   "name": "python3"
  },
  "language_info": {
   "codemirror_mode": {
    "name": "ipython",
    "version": 3
   },
   "file_extension": ".py",
   "mimetype": "text/x-python",
   "name": "python",
   "nbconvert_exporter": "python",
   "pygments_lexer": "ipython3",
   "version": "3.11.7"
  }
 },
 "nbformat": 4,
 "nbformat_minor": 2
}
