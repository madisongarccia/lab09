{
 "cells": [
  {
   "cell_type": "code",
   "execution_count": null,
   "metadata": {},
   "outputs": [],
   "source": [
    "job_titles = []\n",
    "company_names = []\n",
    "company_ratings = []\n",
    "company_locations = []\n",
    "job_pays = []\n",
    "descriptions = []\n",
    "posted = []\n",
    "current_page = 1\n",
    "\n",
    "pagination = driver.find_element(By.XPATH, \".//nav[contains(@role, 'navigation')]\")\n",
    "last_page = pagination.find_elements(By.XPATH, \".//a[contains(@data-testid, 'pagination-page-5')]\")[-1].text\n",
    "\n",
    "continuing = True\n",
    "\n",
    "while continuing:\n",
    "    container = driver.find_element(By.XPATH, \".//div[contains(@id, 'mosaic-jobResults')]\")\n",
    "    all_jobs = container.find_elements(By.XPATH, \".//div[contains(@class, 'job_seen_beacon')]\")\n",
    "    for job in all_jobs:\n",
    "        title = job.find_element(By.XPATH, \".//h2[contains(@class, 'jobTitle')]\").text\n",
    "        try:\n",
    "            location = job.find_element(By.XPATH, \".//div[contains(@class, 'company_location')]\").text.split(\"\\n\")[1]\n",
    "        except:\n",
    "            location = job.find_element(By.XPATH, \".//div[contains(@class, 'company_location')]\").text.split(\"\\n\")[0]\n",
    "        \"\"\"\n",
    "        try:\n",
    "            string = job_one.find_element(By.XPATH, \".//div[contains(@class, 'salary-snippet-container')]\").text\n",
    "            listy = string.split()\n",
    "            for element in listy:\n",
    "                if \"$\" in element:\n",
    "                    pay = element\n",
    "            #pay = job_one.find_element(By.XPATH, \".//div[contains(@class, 'salary-snippet-container')]\").text\n",
    "        except:\n",
    "            pay = \"NaN\"\n",
    "        \"\"\"\n",
    "        company = job.find_element(By.XPATH, \".//div[contains(@class, 'company_location')]\").text.split(\"\\n\")[0]\n",
    "        when_posted= job.find_element(By.XPATH, \".//tr[contains(@class, 'underShelfFooter')]\").text.split(\"\\n\")[-1].strip(\"More...\")\n",
    "        description = job.find_element(By.XPATH, \".//tr[contains(@class, 'underShelfFooter')]\").text.split(\"\\n\")[0]\n",
    "        job_titles.append(title)\n",
    "        #job_pays.append(pay)\n",
    "        company_names.append(company)\n",
    "        descriptions.append(description)\n",
    "        company_locations.append(location)\n",
    "        posted.append(when_posted)\n",
    "    #current_page += 1\n",
    "    try:\n",
    "        next = driver.find_element(By.XPATH, \".//a[contains(@data-testid, 'pagination-page-next')]\")\n",
    "        next.click()\n",
    "        continuing = True\n",
    "    except:\n",
    "        continuing = False"
   ]
  }
 ],
 "metadata": {
  "language_info": {
   "name": "python"
  }
 },
 "nbformat": 4,
 "nbformat_minor": 2
}
